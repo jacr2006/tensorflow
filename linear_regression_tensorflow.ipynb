{
  "nbformat": 4,
  "nbformat_minor": 0,
  "metadata": {
    "colab": {
      "name": "linear regression tensorflow",
      "version": "0.3.2",
      "provenance": [],
      "collapsed_sections": [],
      "include_colab_link": true
    },
    "kernelspec": {
      "name": "python3",
      "display_name": "Python 3"
    },
    "accelerator": "GPU"
  },
  "cells": [
    {
      "cell_type": "markdown",
      "metadata": {
        "id": "view-in-github",
        "colab_type": "text"
      },
      "source": [
        "<a href=\"https://colab.research.google.com/github/jacr2006/tensorflow/blob/master/linear_regression_tensorflow.ipynb\" target=\"_parent\"><img src=\"https://colab.research.google.com/assets/colab-badge.svg\" alt=\"Open In Colab\"/></a>"
      ]
    },
    {
      "cell_type": "markdown",
      "metadata": {
        "id": "Fbc6iEghrfIs",
        "colab_type": "text"
      },
      "source": [
        "##Regresion lineal con Tensorflow\n",
        "\n",
        "El propósito de esta regresion lineal es predecir la emision de CO2 de vehiculos livianos observando la cilindrada.\n",
        "Disponemos del dataset \"Fuel consumption ratings\" disponible en:\n",
        "https://open.canada.ca/data/en/dataset/98f1a129-f628-4ce4-b24d-6f16bf24dd64"
      ]
    },
    {
      "cell_type": "markdown",
      "metadata": {
        "id": "HvlkMvhS6XD6",
        "colab_type": "text"
      },
      "source": [
        "Descarga del dataset en formato .csv"
      ]
    },
    {
      "cell_type": "code",
      "metadata": {
        "id": "JLskGIYU3BqX",
        "colab_type": "code",
        "colab": {
          "base_uri": "https://localhost:8080/",
          "height": 224
        },
        "outputId": "ed6d51bf-5a95-4e3a-b60a-d761569c0c71"
      },
      "source": [
        "!wget -O FuelConsumption.csv 'https://www.nrcan.gc.ca/sites/www.nrcan.gc.ca/files/oee/files/csv/Original_1995-1999_Fuel_Consumption_Ratings_(2-cycle).csv'"
      ],
      "execution_count": 206,
      "outputs": [
        {
          "output_type": "stream",
          "text": [
            "--2019-08-16 03:07:18--  https://www.nrcan.gc.ca/sites/www.nrcan.gc.ca/files/oee/files/csv/Original_1995-1999_Fuel_Consumption_Ratings_(2-cycle).csv\n",
            "Resolving www.nrcan.gc.ca (www.nrcan.gc.ca)... 198.103.48.143\n",
            "Connecting to www.nrcan.gc.ca (www.nrcan.gc.ca)|198.103.48.143|:443... connected.\n",
            "HTTP request sent, awaiting response... 200 OK\n",
            "Length: 242704 (237K) [text/csv]\n",
            "Saving to: ‘FuelConsumption.csv’\n",
            "\n",
            "\rFuelConsumption.csv   0%[                    ]       0  --.-KB/s               \rFuelConsumption.csv  64%[===========>        ] 152.00K   662KB/s               \rFuelConsumption.csv 100%[===================>] 237.02K   900KB/s    in 0.3s    \n",
            "\n",
            "2019-08-16 03:07:19 (900 KB/s) - ‘FuelConsumption.csv’ saved [242704/242704]\n",
            "\n"
          ],
          "name": "stdout"
        }
      ]
    },
    {
      "cell_type": "code",
      "metadata": {
        "id": "698fVvJqLUZA",
        "colab_type": "code",
        "colab": {}
      },
      "source": [
        "#!wget -O FuelConsumption.csv https://s3-api.us-geo.objectstorage.softlayer.net/cf-courses-data/CognitiveClass/ML0101ENv3/labs/FuelConsumptionCo2.csv"
      ],
      "execution_count": 0,
      "outputs": []
    },
    {
      "cell_type": "markdown",
      "metadata": {
        "id": "kd6OKZ8D7BkJ",
        "colab_type": "text"
      },
      "source": [
        "Importar las librerias necesarias"
      ]
    },
    {
      "cell_type": "code",
      "metadata": {
        "id": "84v71gwxx100",
        "colab_type": "code",
        "colab": {}
      },
      "source": [
        "import matplotlib.pyplot as plt\n",
        "import pandas as pd\n",
        "import numpy as np\n",
        "import tensorflow as tf"
      ],
      "execution_count": 0,
      "outputs": []
    },
    {
      "cell_type": "markdown",
      "metadata": {
        "id": "m4DLvqmkCV76",
        "colab_type": "text"
      },
      "source": [
        "Lectura del .csv y asignacion a un dataframe para facilitar su visulizacion y manipulacion"
      ]
    },
    {
      "cell_type": "code",
      "metadata": {
        "id": "FuKer_9JyM80",
        "colab_type": "code",
        "colab": {}
      },
      "source": [
        "df = pd.read_csv(\"FuelConsumption.csv\", encoding='latin1')"
      ],
      "execution_count": 0,
      "outputs": []
    },
    {
      "cell_type": "markdown",
      "metadata": {
        "id": "g9lqivqRBcQc",
        "colab_type": "text"
      },
      "source": [
        "Visualizacion de las primeras 10 filas del dataframe"
      ]
    },
    {
      "cell_type": "code",
      "metadata": {
        "id": "Emz6MVXsBbA2",
        "colab_type": "code",
        "colab": {
          "base_uri": "https://localhost:8080/",
          "height": 461
        },
        "outputId": "bdebbfbe-b82d-4746-b6a0-6a7f8e4f1d61"
      },
      "source": [
        "df.head(10)"
      ],
      "execution_count": 210,
      "outputs": [
        {
          "output_type": "execute_result",
          "data": {
            "text/html": [
              "<div>\n",
              "<style scoped>\n",
              "    .dataframe tbody tr th:only-of-type {\n",
              "        vertical-align: middle;\n",
              "    }\n",
              "\n",
              "    .dataframe tbody tr th {\n",
              "        vertical-align: top;\n",
              "    }\n",
              "\n",
              "    .dataframe thead th {\n",
              "        text-align: right;\n",
              "    }\n",
              "</style>\n",
              "<table border=\"1\" class=\"dataframe\">\n",
              "  <thead>\n",
              "    <tr style=\"text-align: right;\">\n",
              "      <th></th>\n",
              "      <th>MODEL</th>\n",
              "      <th>MAKE</th>\n",
              "      <th>MODEL.1</th>\n",
              "      <th>VEHICLE CLASS</th>\n",
              "      <th>ENGINE SIZE</th>\n",
              "      <th>CYLINDERS</th>\n",
              "      <th>TRANSMISSION</th>\n",
              "      <th>FUEL</th>\n",
              "      <th>FUEL CONSUMPTION</th>\n",
              "      <th>Unnamed: 9</th>\n",
              "      <th>Unnamed: 10</th>\n",
              "      <th>Unnamed: 11</th>\n",
              "      <th>CO2 EMISSIONS</th>\n",
              "    </tr>\n",
              "  </thead>\n",
              "  <tbody>\n",
              "    <tr>\n",
              "      <th>0</th>\n",
              "      <td>YEAR</td>\n",
              "      <td>NaN</td>\n",
              "      <td># = high output engine</td>\n",
              "      <td>NaN</td>\n",
              "      <td>(L)</td>\n",
              "      <td>NaN</td>\n",
              "      <td>NaN</td>\n",
              "      <td>TYPE</td>\n",
              "      <td>CITY (L/100 km)</td>\n",
              "      <td>HWY (L/100 km)</td>\n",
              "      <td>COMB (L/100 km)</td>\n",
              "      <td>COMB (mpg)</td>\n",
              "      <td>(g/km)</td>\n",
              "    </tr>\n",
              "    <tr>\n",
              "      <th>1</th>\n",
              "      <td>1995</td>\n",
              "      <td>ACURA</td>\n",
              "      <td>INTEGRA</td>\n",
              "      <td>SUBCOMPACT</td>\n",
              "      <td>1.8</td>\n",
              "      <td>4.0</td>\n",
              "      <td>A4</td>\n",
              "      <td>X</td>\n",
              "      <td>10.2</td>\n",
              "      <td>7.0</td>\n",
              "      <td>8.8</td>\n",
              "      <td>32</td>\n",
              "      <td>202</td>\n",
              "    </tr>\n",
              "    <tr>\n",
              "      <th>2</th>\n",
              "      <td>1995</td>\n",
              "      <td>ACURA</td>\n",
              "      <td>INTEGRA</td>\n",
              "      <td>SUBCOMPACT</td>\n",
              "      <td>1.8</td>\n",
              "      <td>4.0</td>\n",
              "      <td>M5</td>\n",
              "      <td>X</td>\n",
              "      <td>9.6</td>\n",
              "      <td>7.0</td>\n",
              "      <td>8.4</td>\n",
              "      <td>34</td>\n",
              "      <td>193</td>\n",
              "    </tr>\n",
              "    <tr>\n",
              "      <th>3</th>\n",
              "      <td>1995</td>\n",
              "      <td>ACURA</td>\n",
              "      <td>INTEGRA GS-R</td>\n",
              "      <td>SUBCOMPACT</td>\n",
              "      <td>1.8</td>\n",
              "      <td>4.0</td>\n",
              "      <td>M5</td>\n",
              "      <td>Z</td>\n",
              "      <td>9.4</td>\n",
              "      <td>7.0</td>\n",
              "      <td>8.3</td>\n",
              "      <td>34</td>\n",
              "      <td>191</td>\n",
              "    </tr>\n",
              "    <tr>\n",
              "      <th>4</th>\n",
              "      <td>1995</td>\n",
              "      <td>ACURA</td>\n",
              "      <td>LEGEND</td>\n",
              "      <td>COMPACT</td>\n",
              "      <td>3.2</td>\n",
              "      <td>6.0</td>\n",
              "      <td>A4</td>\n",
              "      <td>Z</td>\n",
              "      <td>12.6</td>\n",
              "      <td>8.9</td>\n",
              "      <td>10.9</td>\n",
              "      <td>26</td>\n",
              "      <td>251</td>\n",
              "    </tr>\n",
              "    <tr>\n",
              "      <th>5</th>\n",
              "      <td>1995</td>\n",
              "      <td>ACURA</td>\n",
              "      <td>LEGEND COUPE</td>\n",
              "      <td>COMPACT</td>\n",
              "      <td>3.2</td>\n",
              "      <td>6.0</td>\n",
              "      <td>A4</td>\n",
              "      <td>Z</td>\n",
              "      <td>13.0</td>\n",
              "      <td>9.3</td>\n",
              "      <td>11.3</td>\n",
              "      <td>25</td>\n",
              "      <td>260</td>\n",
              "    </tr>\n",
              "    <tr>\n",
              "      <th>6</th>\n",
              "      <td>1995</td>\n",
              "      <td>ACURA</td>\n",
              "      <td>LEGEND COUPE</td>\n",
              "      <td>COMPACT</td>\n",
              "      <td>3.2</td>\n",
              "      <td>6.0</td>\n",
              "      <td>M6</td>\n",
              "      <td>Z</td>\n",
              "      <td>13.4</td>\n",
              "      <td>8.4</td>\n",
              "      <td>11.2</td>\n",
              "      <td>25</td>\n",
              "      <td>258</td>\n",
              "    </tr>\n",
              "    <tr>\n",
              "      <th>7</th>\n",
              "      <td>1995</td>\n",
              "      <td>ACURA</td>\n",
              "      <td>NSX</td>\n",
              "      <td>TWO-SEATER</td>\n",
              "      <td>3.0</td>\n",
              "      <td>6.0</td>\n",
              "      <td>A4</td>\n",
              "      <td>Z</td>\n",
              "      <td>13.5</td>\n",
              "      <td>9.2</td>\n",
              "      <td>11.6</td>\n",
              "      <td>24</td>\n",
              "      <td>267</td>\n",
              "    </tr>\n",
              "    <tr>\n",
              "      <th>8</th>\n",
              "      <td>1995</td>\n",
              "      <td>ACURA</td>\n",
              "      <td>NSX</td>\n",
              "      <td>TWO-SEATER</td>\n",
              "      <td>3.0</td>\n",
              "      <td>6.0</td>\n",
              "      <td>M5</td>\n",
              "      <td>Z</td>\n",
              "      <td>12.9</td>\n",
              "      <td>9.0</td>\n",
              "      <td>11.1</td>\n",
              "      <td>25</td>\n",
              "      <td>255</td>\n",
              "    </tr>\n",
              "    <tr>\n",
              "      <th>9</th>\n",
              "      <td>1995</td>\n",
              "      <td>ALFA ROMEO</td>\n",
              "      <td>164 LS</td>\n",
              "      <td>COMPACT</td>\n",
              "      <td>3.0</td>\n",
              "      <td>6.0</td>\n",
              "      <td>A4</td>\n",
              "      <td>Z</td>\n",
              "      <td>15.7</td>\n",
              "      <td>10.0</td>\n",
              "      <td>13.1</td>\n",
              "      <td>22</td>\n",
              "      <td>301</td>\n",
              "    </tr>\n",
              "  </tbody>\n",
              "</table>\n",
              "</div>"
            ],
            "text/plain": [
              "  MODEL        MAKE  ... Unnamed: 11 CO2 EMISSIONS \n",
              "0  YEAR         NaN  ...  COMB (mpg)         (g/km)\n",
              "1  1995       ACURA  ...          32            202\n",
              "2  1995       ACURA  ...          34            193\n",
              "3  1995       ACURA  ...          34            191\n",
              "4  1995       ACURA  ...          26            251\n",
              "5  1995       ACURA  ...          25            260\n",
              "6  1995       ACURA  ...          25            258\n",
              "7  1995       ACURA  ...          24            267\n",
              "8  1995       ACURA  ...          25            255\n",
              "9  1995  ALFA ROMEO  ...          22            301\n",
              "\n",
              "[10 rows x 13 columns]"
            ]
          },
          "metadata": {
            "tags": []
          },
          "execution_count": 210
        }
      ]
    },
    {
      "cell_type": "markdown",
      "metadata": {
        "id": "xg5b6oNWX94p",
        "colab_type": "text"
      },
      "source": [
        "Verificacion de la exitencia de datos nulos"
      ]
    },
    {
      "cell_type": "code",
      "metadata": {
        "id": "lp00c53ZYdjm",
        "colab_type": "code",
        "colab": {
          "base_uri": "https://localhost:8080/",
          "height": 51
        },
        "outputId": "87a5721d-a8bd-4635-c9d7-789f5a10b3ca"
      },
      "source": [
        "df[['ENGINE SIZE']].isnull().sum()"
      ],
      "execution_count": 211,
      "outputs": [
        {
          "output_type": "execute_result",
          "data": {
            "text/plain": [
              "ENGINE SIZE    21\n",
              "dtype: int64"
            ]
          },
          "metadata": {
            "tags": []
          },
          "execution_count": 211
        }
      ]
    },
    {
      "cell_type": "code",
      "metadata": {
        "id": "DZcJLZ1jZj6b",
        "colab_type": "code",
        "colab": {
          "base_uri": "https://localhost:8080/",
          "height": 183
        },
        "outputId": "9286f604-466c-4b36-e3bc-72aa4acc4719"
      },
      "source": [
        "np.isnan(df['ENGINE SIZE'].iloc[5])"
      ],
      "execution_count": 218,
      "outputs": [
        {
          "output_type": "error",
          "ename": "TypeError",
          "evalue": "ignored",
          "traceback": [
            "\u001b[0;31m---------------------------------------------------------------------------\u001b[0m",
            "\u001b[0;31mTypeError\u001b[0m                                 Traceback (most recent call last)",
            "\u001b[0;32m<ipython-input-218-8712afe5606a>\u001b[0m in \u001b[0;36m<module>\u001b[0;34m()\u001b[0m\n\u001b[0;32m----> 1\u001b[0;31m \u001b[0mnp\u001b[0m\u001b[0;34m.\u001b[0m\u001b[0misnan\u001b[0m\u001b[0;34m(\u001b[0m\u001b[0mdf\u001b[0m\u001b[0;34m[\u001b[0m\u001b[0;34m'ENGINE SIZE'\u001b[0m\u001b[0;34m]\u001b[0m\u001b[0;34m.\u001b[0m\u001b[0miloc\u001b[0m\u001b[0;34m[\u001b[0m\u001b[0;36m5\u001b[0m\u001b[0;34m]\u001b[0m\u001b[0;34m)\u001b[0m\u001b[0;34m\u001b[0m\u001b[0;34m\u001b[0m\u001b[0m\n\u001b[0m",
            "\u001b[0;31mTypeError\u001b[0m: ufunc 'isnan' not supported for the input types, and the inputs could not be safely coerced to any supported types according to the casting rule ''safe''"
          ]
        }
      ]
    },
    {
      "cell_type": "code",
      "metadata": {
        "id": "FFgZ-x-4QeRo",
        "colab_type": "code",
        "colab": {
          "base_uri": "https://localhost:8080/",
          "height": 217
        },
        "outputId": "d939cd5c-2016-4a8a-ca38-ac5228f4530a"
      },
      "source": [
        "for i in range(df[['ENGINE SIZE']].shape[0]):\n",
        "  if ( np.isnan(df[['ENGINE SIZE']].iloc[i])==True):\n",
        "    print(\"{}-{}\".format(i, df['ENGINE SIZE'].iloc[i]))  "
      ],
      "execution_count": 213,
      "outputs": [
        {
          "output_type": "error",
          "ename": "TypeError",
          "evalue": "ignored",
          "traceback": [
            "\u001b[0;31m---------------------------------------------------------------------------\u001b[0m",
            "\u001b[0;31mTypeError\u001b[0m                                 Traceback (most recent call last)",
            "\u001b[0;32m<ipython-input-213-a232f66c0ae1>\u001b[0m in \u001b[0;36m<module>\u001b[0;34m()\u001b[0m\n\u001b[1;32m      1\u001b[0m \u001b[0;32mfor\u001b[0m \u001b[0mi\u001b[0m \u001b[0;32min\u001b[0m \u001b[0mrange\u001b[0m\u001b[0;34m(\u001b[0m\u001b[0mdf\u001b[0m\u001b[0;34m[\u001b[0m\u001b[0;34m[\u001b[0m\u001b[0;34m'ENGINE SIZE'\u001b[0m\u001b[0;34m]\u001b[0m\u001b[0;34m]\u001b[0m\u001b[0;34m.\u001b[0m\u001b[0mshape\u001b[0m\u001b[0;34m[\u001b[0m\u001b[0;36m0\u001b[0m\u001b[0;34m]\u001b[0m\u001b[0;34m)\u001b[0m\u001b[0;34m:\u001b[0m\u001b[0;34m\u001b[0m\u001b[0;34m\u001b[0m\u001b[0m\n\u001b[0;32m----> 2\u001b[0;31m   \u001b[0;32mif\u001b[0m \u001b[0;34m(\u001b[0m \u001b[0mnp\u001b[0m\u001b[0;34m.\u001b[0m\u001b[0misnan\u001b[0m\u001b[0;34m(\u001b[0m\u001b[0mdf\u001b[0m\u001b[0;34m[\u001b[0m\u001b[0;34m[\u001b[0m\u001b[0;34m'ENGINE SIZE'\u001b[0m\u001b[0;34m]\u001b[0m\u001b[0;34m]\u001b[0m\u001b[0;34m.\u001b[0m\u001b[0miloc\u001b[0m\u001b[0;34m[\u001b[0m\u001b[0mi\u001b[0m\u001b[0;34m]\u001b[0m\u001b[0;34m)\u001b[0m\u001b[0;34m==\u001b[0m\u001b[0;32mTrue\u001b[0m\u001b[0;34m)\u001b[0m\u001b[0;34m:\u001b[0m\u001b[0;34m\u001b[0m\u001b[0;34m\u001b[0m\u001b[0m\n\u001b[0m\u001b[1;32m      3\u001b[0m     \u001b[0mprint\u001b[0m\u001b[0;34m(\u001b[0m\u001b[0;34m\"{}-{}\"\u001b[0m\u001b[0;34m.\u001b[0m\u001b[0mformat\u001b[0m\u001b[0;34m(\u001b[0m\u001b[0mi\u001b[0m\u001b[0;34m,\u001b[0m \u001b[0mdf\u001b[0m\u001b[0;34m[\u001b[0m\u001b[0;34m'ENGINE SIZE'\u001b[0m\u001b[0;34m]\u001b[0m\u001b[0;34m.\u001b[0m\u001b[0miloc\u001b[0m\u001b[0;34m[\u001b[0m\u001b[0mi\u001b[0m\u001b[0;34m]\u001b[0m\u001b[0;34m)\u001b[0m\u001b[0;34m)\u001b[0m\u001b[0;34m\u001b[0m\u001b[0;34m\u001b[0m\u001b[0m\n",
            "\u001b[0;31mTypeError\u001b[0m: ufunc 'isnan' not supported for the input types, and the inputs could not be safely coerced to any supported types according to the casting rule ''safe''"
          ]
        }
      ]
    },
    {
      "cell_type": "code",
      "metadata": {
        "id": "7MVId_iuQuPK",
        "colab_type": "code",
        "colab": {
          "base_uri": "https://localhost:8080/",
          "height": 51
        },
        "outputId": "6e19039d-92a2-43c0-c448-f29b9655a81f"
      },
      "source": [
        "df[['CO2 EMISSIONS ']].isnull().sum()"
      ],
      "execution_count": 214,
      "outputs": [
        {
          "output_type": "execute_result",
          "data": {
            "text/plain": [
              "CO2 EMISSIONS     21\n",
              "dtype: int64"
            ]
          },
          "metadata": {
            "tags": []
          },
          "execution_count": 214
        }
      ]
    },
    {
      "cell_type": "code",
      "metadata": {
        "id": "R1kl986IY1RW",
        "colab_type": "code",
        "colab": {
          "base_uri": "https://localhost:8080/",
          "height": 217
        },
        "outputId": "913b13eb-6e1f-4b49-918f-5042436f5b25"
      },
      "source": [
        "for i in range(df[['CO2 EMISSIONS ']].shape[0]):\n",
        "  if ( np.isnan(df['CO2 EMISSIONS '].iloc[i])==True):\n",
        "    print(\"{}-{}\".format(i, df['CO2 EMISSIONS '].iloc[i]))"
      ],
      "execution_count": 215,
      "outputs": [
        {
          "output_type": "error",
          "ename": "TypeError",
          "evalue": "ignored",
          "traceback": [
            "\u001b[0;31m---------------------------------------------------------------------------\u001b[0m",
            "\u001b[0;31mTypeError\u001b[0m                                 Traceback (most recent call last)",
            "\u001b[0;32m<ipython-input-215-def6dca5210c>\u001b[0m in \u001b[0;36m<module>\u001b[0;34m()\u001b[0m\n\u001b[1;32m      1\u001b[0m \u001b[0;32mfor\u001b[0m \u001b[0mi\u001b[0m \u001b[0;32min\u001b[0m \u001b[0mrange\u001b[0m\u001b[0;34m(\u001b[0m\u001b[0mdf\u001b[0m\u001b[0;34m[\u001b[0m\u001b[0;34m[\u001b[0m\u001b[0;34m'CO2 EMISSIONS '\u001b[0m\u001b[0;34m]\u001b[0m\u001b[0;34m]\u001b[0m\u001b[0;34m.\u001b[0m\u001b[0mshape\u001b[0m\u001b[0;34m[\u001b[0m\u001b[0;36m0\u001b[0m\u001b[0;34m]\u001b[0m\u001b[0;34m)\u001b[0m\u001b[0;34m:\u001b[0m\u001b[0;34m\u001b[0m\u001b[0;34m\u001b[0m\u001b[0m\n\u001b[0;32m----> 2\u001b[0;31m   \u001b[0;32mif\u001b[0m \u001b[0;34m(\u001b[0m \u001b[0mnp\u001b[0m\u001b[0;34m.\u001b[0m\u001b[0misnan\u001b[0m\u001b[0;34m(\u001b[0m\u001b[0mdf\u001b[0m\u001b[0;34m[\u001b[0m\u001b[0;34m'CO2 EMISSIONS '\u001b[0m\u001b[0;34m]\u001b[0m\u001b[0;34m.\u001b[0m\u001b[0miloc\u001b[0m\u001b[0;34m[\u001b[0m\u001b[0mi\u001b[0m\u001b[0;34m]\u001b[0m\u001b[0;34m)\u001b[0m\u001b[0;34m==\u001b[0m\u001b[0;32mTrue\u001b[0m\u001b[0;34m)\u001b[0m\u001b[0;34m:\u001b[0m\u001b[0;34m\u001b[0m\u001b[0;34m\u001b[0m\u001b[0m\n\u001b[0m\u001b[1;32m      3\u001b[0m     \u001b[0mprint\u001b[0m\u001b[0;34m(\u001b[0m\u001b[0;34m\"{}-{}\"\u001b[0m\u001b[0;34m.\u001b[0m\u001b[0mformat\u001b[0m\u001b[0;34m(\u001b[0m\u001b[0mi\u001b[0m\u001b[0;34m,\u001b[0m \u001b[0mdf\u001b[0m\u001b[0;34m[\u001b[0m\u001b[0;34m'CO2 EMISSIONS '\u001b[0m\u001b[0;34m]\u001b[0m\u001b[0;34m.\u001b[0m\u001b[0miloc\u001b[0m\u001b[0;34m[\u001b[0m\u001b[0mi\u001b[0m\u001b[0;34m]\u001b[0m\u001b[0;34m)\u001b[0m\u001b[0;34m)\u001b[0m\u001b[0;34m\u001b[0m\u001b[0;34m\u001b[0m\u001b[0m\n",
            "\u001b[0;31mTypeError\u001b[0m: ufunc 'isnan' not supported for the input types, and the inputs could not be safely coerced to any supported types according to the casting rule ''safe''"
          ]
        }
      ]
    },
    {
      "cell_type": "markdown",
      "metadata": {
        "id": "UUe3L5D_B--Q",
        "colab_type": "text"
      },
      "source": [
        "La visualización anterior muestra las variables observadas del dataset y sus valores numericos. Pero la fila 1 no es numérica y generará errores cuando se realizen operacion numéricas. Se debe omitir ( o saltar en la lectura del csv)"
      ]
    },
    {
      "cell_type": "code",
      "metadata": {
        "id": "WuKwO95VB_X3",
        "colab_type": "code",
        "colab": {}
      },
      "source": [
        "null_values = [\"n/a\", \"nan\", \"--\"]\n",
        "df = pd.read_csv(\"FuelConsumption.csv\", encoding='latin1', skiprows=[1], na_values = null_values)"
      ],
      "execution_count": 0,
      "outputs": []
    },
    {
      "cell_type": "markdown",
      "metadata": {
        "id": "u2fGWX7WG-Er",
        "colab_type": "text"
      },
      "source": [
        "Lectura y asignacion de las variables de interes que se usaran en la predicción"
      ]
    },
    {
      "cell_type": "code",
      "metadata": {
        "id": "1c6HnOsYy89c",
        "colab_type": "code",
        "colab": {}
      },
      "source": [
        "train_x = np.asanyarray(df[['ENGINE SIZE']])\n",
        "train_y = np.asanyarray(df[['CO2 EMISSIONS ']])"
      ],
      "execution_count": 0,
      "outputs": []
    },
    {
      "cell_type": "markdown",
      "metadata": {
        "id": "nQhW-LNNGOR0",
        "colab_type": "text"
      },
      "source": [
        "Para una visulizacion grafica de los datos usamos matplolib"
      ]
    },
    {
      "cell_type": "code",
      "metadata": {
        "id": "mGDAvXJJGaSa",
        "colab_type": "code",
        "colab": {
          "base_uri": "https://localhost:8080/",
          "height": 269
        },
        "outputId": "726b4d64-3c41-419a-c622-7e68a7e8d0d2"
      },
      "source": [
        "plt.plot(train_x, train_y, 'ro')\n",
        "plt.show()"
      ],
      "execution_count": 222,
      "outputs": [
        {
          "output_type": "display_data",
          "data": {
            "image/png": "[encoded data removed]",
            "text/plain": [
              "<Figure size 432x288 with 1 Axes>"
            ]
          },
          "metadata": {
            "tags": []
          }
        }
      ]
    },
    {
      "cell_type": "markdown",
      "metadata": {
        "id": "-CbFUbCiDHO2",
        "colab_type": "text"
      },
      "source": [
        "La hipotesis usada para la predicción será una ecuacion lineal. Se espera obtener la recta que mejor se ajuste. La funcion de costos medirá el error de la hipotesis"
      ]
    },
    {
      "cell_type": "code",
      "metadata": {
        "id": "rTju2h34zAp1",
        "colab_type": "code",
        "colab": {}
      },
      "source": [
        "a = tf.Variable(20.0)\n",
        "b = tf.Variable(30.2)\n",
        "y = a * train_x + b"
      ],
      "execution_count": 0,
      "outputs": []
    },
    {
      "cell_type": "markdown",
      "metadata": {
        "id": "M3Dc0j4zEBKr",
        "colab_type": "text"
      },
      "source": [
        "La funcion de costos o perdida usada será la media de la diferencia entre el valor real y el inferido"
      ]
    },
    {
      "cell_type": "code",
      "metadata": {
        "id": "d5KvYrKtzFYK",
        "colab_type": "code",
        "colab": {}
      },
      "source": [
        "loss = tf.reduce_mean(tf.square(y - train_y))"
      ],
      "execution_count": 0,
      "outputs": []
    },
    {
      "cell_type": "markdown",
      "metadata": {
        "id": "PQLUGysrELhQ",
        "colab_type": "text"
      },
      "source": [
        "El algoritmo usado para hallar el minimo de la función de perdida será Gradiente Descendente con un coeficiente de aprendizaje de 0.05, en un principio"
      ]
    },
    {
      "cell_type": "code",
      "metadata": {
        "id": "a3SHKIK6zF5i",
        "colab_type": "code",
        "colab": {}
      },
      "source": [
        "optimizer = tf.train.GradientDescentOptimizer(0.05)"
      ],
      "execution_count": 0,
      "outputs": []
    },
    {
      "cell_type": "code",
      "metadata": {
        "id": "pkrdVchbzNkU",
        "colab_type": "code",
        "colab": {}
      },
      "source": [
        "train = optimizer.minimize(loss)"
      ],
      "execution_count": 0,
      "outputs": []
    },
    {
      "cell_type": "markdown",
      "metadata": {
        "id": "V1gqdPl5FXvl",
        "colab_type": "text"
      },
      "source": [
        "Se crea una sesion y se inicializan las variables globales"
      ]
    },
    {
      "cell_type": "code",
      "metadata": {
        "id": "yd80avtSzISV",
        "colab_type": "code",
        "colab": {}
      },
      "source": [
        "init = tf.global_variables_initializer()\n",
        "sess = tf.Session()\n",
        "sess.run(init)"
      ],
      "execution_count": 0,
      "outputs": []
    },
    {
      "cell_type": "markdown",
      "metadata": {
        "id": "wzRUGs18HJYl",
        "colab_type": "text"
      },
      "source": [
        "Se ejecutan 200 iteraciones y se imprime el valor de la funcion de perdida"
      ]
    },
    {
      "cell_type": "code",
      "metadata": {
        "id": "nBQ85b2mzaaD",
        "colab_type": "code",
        "outputId": "d3d11bc0-5d9b-45d4-8913-62b9c9584e71",
        "colab": {
          "base_uri": "https://localhost:8080/",
          "height": 697
        }
      },
      "source": [
        "loss_values = []\n",
        "train_data = []\n",
        "for step in range(200):\n",
        "    _, b_val, a_val, loss_val = sess.run([train, b, a, loss])\n",
        "    loss_values.append(loss_val)\n",
        "    if step % 5 == 0:\n",
        "        print(step, loss_val, a_val, b_val)\n",
        "        train_data.append([a_val, b_val])"
      ],
      "execution_count": 228,
      "outputs": [
        {
          "output_type": "stream",
          "text": [
            "0 nan 20.0 30.2\n",
            "5 nan nan nan\n",
            "10 nan nan nan\n",
            "15 nan nan nan\n",
            "20 nan nan nan\n",
            "25 nan nan nan\n",
            "30 nan nan nan\n",
            "35 nan nan nan\n",
            "40 nan nan nan\n",
            "45 nan nan nan\n",
            "50 nan nan nan\n",
            "55 nan nan nan\n",
            "60 nan nan nan\n",
            "65 nan nan nan\n",
            "70 nan nan nan\n",
            "75 nan nan nan\n",
            "80 nan nan nan\n",
            "85 nan nan nan\n",
            "90 nan nan nan\n",
            "95 nan nan nan\n",
            "100 nan nan nan\n",
            "105 nan nan nan\n",
            "110 nan nan nan\n",
            "115 nan nan nan\n",
            "120 nan nan nan\n",
            "125 nan nan nan\n",
            "130 nan nan nan\n",
            "135 nan nan nan\n",
            "140 nan nan nan\n",
            "145 nan nan nan\n",
            "150 nan nan nan\n",
            "155 nan nan nan\n",
            "160 nan nan nan\n",
            "165 nan nan nan\n",
            "170 nan nan nan\n",
            "175 nan nan nan\n",
            "180 nan nan nan\n",
            "185 nan nan nan\n",
            "190 nan nan nan\n",
            "195 nan nan nan\n"
          ],
          "name": "stdout"
        }
      ]
    },
    {
      "cell_type": "code",
      "metadata": {
        "id": "6sbalaeA0Iez",
        "colab_type": "code",
        "colab": {}
      },
      "source": [
        "plt.plot(loss_values, 'ro')"
      ],
      "execution_count": 0,
      "outputs": []
    },
    {
      "cell_type": "code",
      "metadata": {
        "id": "9gQYxn9647j_",
        "colab_type": "code",
        "colab": {}
      },
      "source": [
        "#sess.close()"
      ],
      "execution_count": 0,
      "outputs": []
    }
  ]
}