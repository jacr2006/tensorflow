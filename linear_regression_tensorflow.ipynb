{
  "nbformat": 4,
  "nbformat_minor": 0,
  "metadata": {
    "colab": {
      "name": "linear regression tensorflow",
      "version": "0.3.2",
      "provenance": [],
      "collapsed_sections": [],
      "include_colab_link": true
    },
    "kernelspec": {
      "name": "python3",
      "display_name": "Python 3"
    },
    "accelerator": "GPU"
  },
  "cells": [
    {
      "cell_type": "markdown",
      "metadata": {
        "id": "view-in-github",
        "colab_type": "text"
      },
      "source": [
        "<a href=\"https://colab.research.google.com/github/jacr2006/tensorflow/blob/master/linear_regression_tensorflow.ipynb\" target=\"_parent\"><img src=\"https://colab.research.google.com/assets/colab-badge.svg\" alt=\"Open In Colab\"/></a>"
      ]
    },
    {
      "cell_type": "markdown",
      "metadata": {
        "id": "Fbc6iEghrfIs",
        "colab_type": "text"
      },
      "source": [
        "##Regresion lineal con Tensorflow\n",
        "\n",
        "El propósito de esta regresion lineal es predecir la emision de CO2 de vehiculos livianos observando la cilindrada.\n",
        "Disponemos del dataset \"Fuel consumption ratings\" disponible en:\n",
        "https://open.canada.ca/data/en/dataset/98f1a129-f628-4ce4-b24d-6f16bf24dd64"
      ]
    },
    {
      "cell_type": "markdown",
      "metadata": {
        "id": "HvlkMvhS6XD6",
        "colab_type": "text"
      },
      "source": [
        "Descarga del dataset en formato .csv"
      ]
    },
    {
      "cell_type": "code",
      "metadata": {
        "id": "JLskGIYU3BqX",
        "colab_type": "code",
        "outputId": "b50d0c27-50a1-4189-f94a-7709eaba6c3c",
        "colab": {
          "base_uri": "https://localhost:8080/",
          "height": 224
        }
      },
      "source": [
        "!wget -O FuelConsumption.csv 'https://www.nrcan.gc.ca/sites/www.nrcan.gc.ca/files/oee/files/csv/Original_1995-1999_Fuel_Consumption_Ratings_(2-cycle).csv'"
      ],
      "execution_count": 0,
      "outputs": [
        {
          "output_type": "stream",
          "text": [
            "--2019-08-18 04:13:22--  https://www.nrcan.gc.ca/sites/www.nrcan.gc.ca/files/oee/files/csv/Original_1995-1999_Fuel_Consumption_Ratings_(2-cycle).csv\n",
            "Resolving www.nrcan.gc.ca (www.nrcan.gc.ca)... 198.103.48.143\n",
            "Connecting to www.nrcan.gc.ca (www.nrcan.gc.ca)|198.103.48.143|:443... connected.\n",
            "HTTP request sent, awaiting response... 200 OK\n",
            "Length: 242704 (237K) [text/csv]\n",
            "Saving to: ‘FuelConsumption.csv’\n",
            "\n",
            "FuelConsumption.csv 100%[===================>] 237.02K   870KB/s    in 0.3s    \n",
            "\n",
            "2019-08-18 04:13:22 (870 KB/s) - ‘FuelConsumption.csv’ saved [242704/242704]\n",
            "\n"
          ],
          "name": "stdout"
        }
      ]
    },
    {
      "cell_type": "markdown",
      "metadata": {
        "id": "kd6OKZ8D7BkJ",
        "colab_type": "text"
      },
      "source": [
        "Importar las librerias necesarias"
      ]
    },
    {
      "cell_type": "code",
      "metadata": {
        "id": "84v71gwxx100",
        "colab_type": "code",
        "colab": {}
      },
      "source": [
        "import matplotlib.pyplot as plt\n",
        "import pandas as pd\n",
        "import numpy as np\n",
        "import tensorflow as tf"
      ],
      "execution_count": 0,
      "outputs": []
    },
    {
      "cell_type": "markdown",
      "metadata": {
        "id": "m4DLvqmkCV76",
        "colab_type": "text"
      },
      "source": [
        "###Visualización y limpieza de datos\n",
        "Lectura del .csv y asignacion a un dataframe para facilitar su visulizacion y manipulacion"
      ]
    },
    {
      "cell_type": "code",
      "metadata": {
        "id": "FuKer_9JyM80",
        "colab_type": "code",
        "colab": {}
      },
      "source": [
        "df = pd.read_csv(\"FuelConsumption.csv\", encoding='latin1')"
      ],
      "execution_count": 0,
      "outputs": []
    },
    {
      "cell_type": "markdown",
      "metadata": {
        "id": "g9lqivqRBcQc",
        "colab_type": "text"
      },
      "source": [
        "Visualizacion de las primeras 5 filas del dataframe"
      ]
    },
    {
      "cell_type": "code",
      "metadata": {
        "id": "Emz6MVXsBbA2",
        "colab_type": "code",
        "outputId": "cb251a93-f950-475c-c2a7-9e824711126d",
        "colab": {
          "base_uri": "https://localhost:8080/",
          "height": 238
        }
      },
      "source": [
        "df.head(5)"
      ],
      "execution_count": 0,
      "outputs": [
        {
          "output_type": "execute_result",
          "data": {
            "text/html": [
              "<div>\n",
              "<style scoped>\n",
              "    .dataframe tbody tr th:only-of-type {\n",
              "        vertical-align: middle;\n",
              "    }\n",
              "\n",
              "    .dataframe tbody tr th {\n",
              "        vertical-align: top;\n",
              "    }\n",
              "\n",
              "    .dataframe thead th {\n",
              "        text-align: right;\n",
              "    }\n",
              "</style>\n",
              "<table border=\"1\" class=\"dataframe\">\n",
              "  <thead>\n",
              "    <tr style=\"text-align: right;\">\n",
              "      <th></th>\n",
              "      <th>MODEL</th>\n",
              "      <th>MAKE</th>\n",
              "      <th>MODEL.1</th>\n",
              "      <th>VEHICLE CLASS</th>\n",
              "      <th>ENGINE SIZE</th>\n",
              "      <th>CYLINDERS</th>\n",
              "      <th>TRANSMISSION</th>\n",
              "      <th>FUEL</th>\n",
              "      <th>FUEL CONSUMPTION</th>\n",
              "      <th>Unnamed: 9</th>\n",
              "      <th>Unnamed: 10</th>\n",
              "      <th>Unnamed: 11</th>\n",
              "      <th>CO2 EMISSIONS</th>\n",
              "    </tr>\n",
              "  </thead>\n",
              "  <tbody>\n",
              "    <tr>\n",
              "      <th>0</th>\n",
              "      <td>YEAR</td>\n",
              "      <td>NaN</td>\n",
              "      <td># = high output engine</td>\n",
              "      <td>NaN</td>\n",
              "      <td>(L)</td>\n",
              "      <td>NaN</td>\n",
              "      <td>NaN</td>\n",
              "      <td>TYPE</td>\n",
              "      <td>CITY (L/100 km)</td>\n",
              "      <td>HWY (L/100 km)</td>\n",
              "      <td>COMB (L/100 km)</td>\n",
              "      <td>COMB (mpg)</td>\n",
              "      <td>(g/km)</td>\n",
              "    </tr>\n",
              "    <tr>\n",
              "      <th>1</th>\n",
              "      <td>1995</td>\n",
              "      <td>ACURA</td>\n",
              "      <td>INTEGRA</td>\n",
              "      <td>SUBCOMPACT</td>\n",
              "      <td>1.8</td>\n",
              "      <td>4.0</td>\n",
              "      <td>A4</td>\n",
              "      <td>X</td>\n",
              "      <td>10.2</td>\n",
              "      <td>7.0</td>\n",
              "      <td>8.8</td>\n",
              "      <td>32</td>\n",
              "      <td>202</td>\n",
              "    </tr>\n",
              "    <tr>\n",
              "      <th>2</th>\n",
              "      <td>1995</td>\n",
              "      <td>ACURA</td>\n",
              "      <td>INTEGRA</td>\n",
              "      <td>SUBCOMPACT</td>\n",
              "      <td>1.8</td>\n",
              "      <td>4.0</td>\n",
              "      <td>M5</td>\n",
              "      <td>X</td>\n",
              "      <td>9.6</td>\n",
              "      <td>7.0</td>\n",
              "      <td>8.4</td>\n",
              "      <td>34</td>\n",
              "      <td>193</td>\n",
              "    </tr>\n",
              "    <tr>\n",
              "      <th>3</th>\n",
              "      <td>1995</td>\n",
              "      <td>ACURA</td>\n",
              "      <td>INTEGRA GS-R</td>\n",
              "      <td>SUBCOMPACT</td>\n",
              "      <td>1.8</td>\n",
              "      <td>4.0</td>\n",
              "      <td>M5</td>\n",
              "      <td>Z</td>\n",
              "      <td>9.4</td>\n",
              "      <td>7.0</td>\n",
              "      <td>8.3</td>\n",
              "      <td>34</td>\n",
              "      <td>191</td>\n",
              "    </tr>\n",
              "    <tr>\n",
              "      <th>4</th>\n",
              "      <td>1995</td>\n",
              "      <td>ACURA</td>\n",
              "      <td>LEGEND</td>\n",
              "      <td>COMPACT</td>\n",
              "      <td>3.2</td>\n",
              "      <td>6.0</td>\n",
              "      <td>A4</td>\n",
              "      <td>Z</td>\n",
              "      <td>12.6</td>\n",
              "      <td>8.9</td>\n",
              "      <td>10.9</td>\n",
              "      <td>26</td>\n",
              "      <td>251</td>\n",
              "    </tr>\n",
              "  </tbody>\n",
              "</table>\n",
              "</div>"
            ],
            "text/plain": [
              "  MODEL   MAKE  ... Unnamed: 11 CO2 EMISSIONS \n",
              "0  YEAR    NaN  ...  COMB (mpg)         (g/km)\n",
              "1  1995  ACURA  ...          32            202\n",
              "2  1995  ACURA  ...          34            193\n",
              "3  1995  ACURA  ...          34            191\n",
              "4  1995  ACURA  ...          26            251\n",
              "\n",
              "[5 rows x 13 columns]"
            ]
          },
          "metadata": {
            "tags": []
          },
          "execution_count": 126
        }
      ]
    },
    {
      "cell_type": "markdown",
      "metadata": {
        "id": "UUe3L5D_B--Q",
        "colab_type": "text"
      },
      "source": [
        "La visualización anterior muestra las variables observadas del dataset y sus valores numericos. Pero la fila 1 no es numérica y generará errores cuando se realizen operacion numéricas. Se debe omitir ( o saltar en la lectura del csv)"
      ]
    },
    {
      "cell_type": "code",
      "metadata": {
        "id": "WuKwO95VB_X3",
        "colab_type": "code",
        "colab": {}
      },
      "source": [
        "df = pd.read_csv(\"FuelConsumption.csv\", encoding='latin1', skiprows=[1])"
      ],
      "execution_count": 0,
      "outputs": []
    },
    {
      "cell_type": "markdown",
      "metadata": {
        "id": "xg5b6oNWX94p",
        "colab_type": "text"
      },
      "source": [
        "Verificacion de la exitencia de datos nulos"
      ]
    },
    {
      "cell_type": "code",
      "metadata": {
        "id": "lp00c53ZYdjm",
        "colab_type": "code",
        "outputId": "c717bc5f-8d6d-4732-fa14-7dcc1ddcbd6e",
        "colab": {
          "base_uri": "https://localhost:8080/",
          "height": 51
        }
      },
      "source": [
        "df[['ENGINE SIZE']].isna().sum()"
      ],
      "execution_count": 0,
      "outputs": [
        {
          "output_type": "execute_result",
          "data": {
            "text/plain": [
              "ENGINE SIZE    21\n",
              "dtype: int64"
            ]
          },
          "metadata": {
            "tags": []
          },
          "execution_count": 128
        }
      ]
    },
    {
      "cell_type": "markdown",
      "metadata": {
        "id": "2WRB1Lo6tnpF",
        "colab_type": "text"
      },
      "source": [
        "Existen 21 valores nulos en la columna ENGINE SIZE que deben omitirse"
      ]
    },
    {
      "cell_type": "code",
      "metadata": {
        "id": "PDMF4crJkHT7",
        "colab_type": "code",
        "colab": {}
      },
      "source": [
        "df=df[~df['ENGINE SIZE'].isna()]"
      ],
      "execution_count": 0,
      "outputs": []
    },
    {
      "cell_type": "code",
      "metadata": {
        "id": "7MVId_iuQuPK",
        "colab_type": "code",
        "outputId": "27e13aa9-f8ac-4bf6-b1de-c9cf7787384a",
        "colab": {
          "base_uri": "https://localhost:8080/",
          "height": 51
        }
      },
      "source": [
        "df[['CO2 EMISSIONS ']].isnull().sum()"
      ],
      "execution_count": 0,
      "outputs": [
        {
          "output_type": "execute_result",
          "data": {
            "text/plain": [
              "CO2 EMISSIONS     0\n",
              "dtype: int64"
            ]
          },
          "metadata": {
            "tags": []
          },
          "execution_count": 130
        }
      ]
    },
    {
      "cell_type": "markdown",
      "metadata": {
        "id": "nQhW-LNNGOR0",
        "colab_type": "text"
      },
      "source": [
        "Para una visulizacion grafica de los datos usamos matplolib"
      ]
    },
    {
      "cell_type": "code",
      "metadata": {
        "id": "mGDAvXJJGaSa",
        "colab_type": "code",
        "outputId": "856c1a4b-de55-4b50-dd7d-6fe926df7dfb",
        "colab": {
          "base_uri": "https://localhost:8080/",
          "height": 269
        }
      },
      "source": [
        "plt.plot(train_x, train_y, 'ro')\n",
        "plt.show()"
      ],
      "execution_count": 0,
      "outputs": [
        {
          "output_type": "display_data",
          "data": {
            "image/png": "[encoded data removed]",
            "text/plain": [
              "<Figure size 432x288 with 1 Axes>"
            ]
          },
          "metadata": {
            "tags": []
          }
        }
      ]
    },
    {
      "cell_type": "markdown",
      "metadata": {
        "id": "u2fGWX7WG-Er",
        "colab_type": "text"
      },
      "source": [
        "###Entrenamiento\n",
        "Lectura y asignacion de las variables de interes que se usaran en la predicción"
      ]
    },
    {
      "cell_type": "code",
      "metadata": {
        "id": "1c6HnOsYy89c",
        "colab_type": "code",
        "colab": {}
      },
      "source": [
        "train_x = np.asanyarray(df[['ENGINE SIZE']])\n",
        "train_y = np.asanyarray(df[['CO2 EMISSIONS ']])"
      ],
      "execution_count": 0,
      "outputs": []
    },
    {
      "cell_type": "markdown",
      "metadata": {
        "id": "-CbFUbCiDHO2",
        "colab_type": "text"
      },
      "source": [
        "La hipotesis usada para la predicción será una ecuacion lineal. Se espera obtener la recta que mejor se ajuste. La funcion de costos medirá el error de la hipotesis"
      ]
    },
    {
      "cell_type": "code",
      "metadata": {
        "id": "rTju2h34zAp1",
        "colab_type": "code",
        "colab": {}
      },
      "source": [
        "a = tf.Variable(20.0)\n",
        "b = tf.Variable(30.2)\n",
        "y = a * train_x + b"
      ],
      "execution_count": 0,
      "outputs": []
    },
    {
      "cell_type": "markdown",
      "metadata": {
        "id": "M3Dc0j4zEBKr",
        "colab_type": "text"
      },
      "source": [
        "La funcion de costos o perdida usada será la media de la diferencia entre el valor real y el inferido"
      ]
    },
    {
      "cell_type": "code",
      "metadata": {
        "id": "d5KvYrKtzFYK",
        "colab_type": "code",
        "colab": {}
      },
      "source": [
        "loss = tf.reduce_mean(tf.square(y - train_y))"
      ],
      "execution_count": 0,
      "outputs": []
    },
    {
      "cell_type": "markdown",
      "metadata": {
        "id": "PQLUGysrELhQ",
        "colab_type": "text"
      },
      "source": [
        "El algoritmo usado para hallar el minimo de la función de perdida será Gradiente Descendente con un coeficiente de aprendizaje de 0.05, en un principio"
      ]
    },
    {
      "cell_type": "code",
      "metadata": {
        "id": "a3SHKIK6zF5i",
        "colab_type": "code",
        "colab": {}
      },
      "source": [
        "optimizer = tf.train.GradientDescentOptimizer(0.05)"
      ],
      "execution_count": 0,
      "outputs": []
    },
    {
      "cell_type": "code",
      "metadata": {
        "id": "pkrdVchbzNkU",
        "colab_type": "code",
        "colab": {}
      },
      "source": [
        "train = optimizer.minimize(loss)"
      ],
      "execution_count": 0,
      "outputs": []
    },
    {
      "cell_type": "markdown",
      "metadata": {
        "id": "V1gqdPl5FXvl",
        "colab_type": "text"
      },
      "source": [
        "Se crea una sesion y se inicializan las variables globales"
      ]
    },
    {
      "cell_type": "code",
      "metadata": {
        "id": "yd80avtSzISV",
        "colab_type": "code",
        "colab": {}
      },
      "source": [
        "init = tf.global_variables_initializer()\n",
        "sess = tf.Session()\n",
        "sess.run(init)"
      ],
      "execution_count": 0,
      "outputs": []
    },
    {
      "cell_type": "markdown",
      "metadata": {
        "id": "wzRUGs18HJYl",
        "colab_type": "text"
      },
      "source": [
        "Se ejecutan 200 iteraciones y se imprime el valor de la funcion de perdida"
      ]
    },
    {
      "cell_type": "code",
      "metadata": {
        "id": "nBQ85b2mzaaD",
        "colab_type": "code",
        "outputId": "925bb2cd-8b42-4791-8e47-e55bc9ce3f83",
        "colab": {
          "base_uri": "https://localhost:8080/",
          "height": 357
        }
      },
      "source": [
        "loss_values = []\n",
        "train_data = []\n",
        "for step in range(200):\n",
        "    _, b_val, a_val, loss_val = sess.run([train, b, a, loss])\n",
        "    loss_values.append(loss_val)\n",
        "    if step % 10 == 0:\n",
        "        print(step, loss_val, a_val, b_val)\n",
        "        train_data.append([a_val, b_val])"
      ],
      "execution_count": 0,
      "outputs": [
        {
          "output_type": "stream",
          "text": [
            "0 28822.312 20.0 30.2\n",
            "10 1770.565 59.261467 53.241272\n",
            "20 1572.6069 57.034145 61.87324\n",
            "30 1422.3395 54.864376 70.28901\n",
            "40 1308.2738 52.798847 78.30047\n",
            "50 1221.6877 51.326912 84.009605\n",
            "60 1155.9612 49.891914 89.57546\n",
            "70 1106.0687 48.641663 94.42476\n",
            "80 1068.1962 47.451473 99.04109\n",
            "90 1039.4474 46.60332 102.33078\n",
            "100 1017.6245 45.776455 105.53791\n",
            "110 1001.05927 45.05604 108.33214\n",
            "120 988.4847 44.42838 110.766624\n",
            "130 978.93945 43.881523 112.887695\n",
            "140 971.6937 43.405067 114.735695\n",
            "150 966.19366 42.989956 116.34577\n",
            "160 962.0185 42.594788 117.74855\n",
            "170 958.84937 42.313183 118.97074\n",
            "180 956.44366 42.038643 120.03559\n",
            "190 954.6177 41.799446 120.96334\n"
          ],
          "name": "stdout"
        }
      ]
    },
    {
      "cell_type": "code",
      "metadata": {
        "id": "6sbalaeA0Iez",
        "colab_type": "code",
        "outputId": "61030fdd-c084-46b8-f632-42c6dc634402",
        "colab": {
          "base_uri": "https://localhost:8080/",
          "height": 286
        }
      },
      "source": [
        "plt.plot(loss_values, 'ro')"
      ],
      "execution_count": 0,
      "outputs": [
        {
          "output_type": "execute_result",
          "data": {
            "text/plain": [
              "[<matplotlib.lines.Line2D at 0x7f493cd81710>]"
            ]
          },
          "metadata": {
            "tags": []
          },
          "execution_count": 139
        },
        {
          "output_type": "display_data",
          "data": {
            "image/png": "[encoded data removed]",
            "text/plain": [
              "<Figure size 432x288 with 1 Axes>"
            ]
          },
          "metadata": {
            "tags": []
          }
        }
      ]
    },
    {
      "cell_type": "markdown",
      "metadata": {
        "id": "b6gSrH6OyVO9",
        "colab_type": "text"
      },
      "source": [
        "###Inferencia\n",
        "Para un vehiculo con un \"ENGINE SIZE\" de 2.0, predeciremos la  \"CO2 EMISSIONS\""
      ]
    },
    {
      "cell_type": "code",
      "metadata": {
        "id": "MCIJNPGkyofA",
        "colab_type": "code",
        "outputId": "d7ef2b6d-141f-42fc-b165-149e42963a6b",
        "colab": {
          "base_uri": "https://localhost:8080/",
          "height": 34
        }
      },
      "source": [
        "y = a_val * (2.0) + b_val\n",
        "print(\"CO2 EMISSIONS:{}\".format(y))"
      ],
      "execution_count": 0,
      "outputs": [
        {
          "output_type": "stream",
          "text": [
            "CO2 EMISSIONS:204.91698455810547\n"
          ],
          "name": "stdout"
        }
      ]
    },
    {
      "cell_type": "code",
      "metadata": {
        "id": "9gQYxn9647j_",
        "colab_type": "code",
        "colab": {}
      },
      "source": [
        "sess.close()"
      ],
      "execution_count": 0,
      "outputs": []
    },
    {
      "cell_type": "markdown",
      "metadata": {
        "id": "F9gIceYA0hHv",
        "colab_type": "text"
      },
      "source": [
        "Para mejorar la perdida de la hipotesis, es posible:\n",
        "\n",
        "*   usar regularizacion \n",
        "*   usar \"polynomial features\"\n"
      ]
    }
  ]
}