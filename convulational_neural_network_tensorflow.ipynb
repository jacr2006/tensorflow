{
  "nbformat": 4,
  "nbformat_minor": 0,
  "metadata": {
    "colab": {
      "name": "convulational neural network tensorflow.ipynb",
      "version": "0.3.2",
      "provenance": [],
      "collapsed_sections": [],
      "include_colab_link": true
    },
    "kernelspec": {
      "name": "python3",
      "display_name": "Python 3"
    },
    "accelerator": "GPU"
  },
  "cells": [
    {
      "cell_type": "markdown",
      "metadata": {
        "id": "view-in-github",
        "colab_type": "text"
      },
      "source": [
        "<a href=\"https://colab.research.google.com/github/jacr2006/tensorflow/blob/master/convulational_neural_network_tensorflow.ipynb\" target=\"_parent\"><img src=\"https://colab.research.google.com/assets/colab-badge.svg\" alt=\"Open In Colab\"/></a>"
      ]
    },
    {
      "cell_type": "markdown",
      "metadata": {
        "id": "lNVMJWROy7Ks",
        "colab_type": "text"
      },
      "source": [
        "##Red Neuronal Convolucional - CNN\n",
        "\n",
        "El propósito de este notebook es entrenar una red neuronal convolucional para un problema de clasificación multiclase de digitos escritos a mano. Finalmente se tratará de inferir la clase a la que pertenece una imagen de un digito escritos a mano con el modelo obtenido. Para el entrenamiento usaremos el dataset MNIST conformado por 60.000 imagenes de entrenamiento y 10.000 imagenes de prueba.\n",
        "\n",
        "Este dataset esta disponible en la libreria \"tensorflow_datasets\" de tensorflow."
      ]
    },
    {
      "cell_type": "code",
      "metadata": {
        "id": "9zpbK3ahzsEX",
        "colab_type": "code",
        "colab": {}
      },
      "source": [
        "!pip install -q tensorflow tensorflow-datasets matplotlib tensorboardcolab"
      ],
      "execution_count": 0,
      "outputs": []
    },
    {
      "cell_type": "markdown",
      "metadata": {
        "id": "NmpqvCuTe7ZB",
        "colab_type": "text"
      },
      "source": [
        "Importar las librerias necesarias"
      ]
    },
    {
      "cell_type": "code",
      "metadata": {
        "id": "7zY_tbRdcgwa",
        "colab_type": "code",
        "colab": {}
      },
      "source": [
        "import tensorflow as tf\n",
        "import tensorflow_datasets as tfds\n",
        "import matplotlib.pyplot as plt"
      ],
      "execution_count": 0,
      "outputs": []
    },
    {
      "cell_type": "markdown",
      "metadata": {
        "id": "UjoYgqORi08S",
        "colab_type": "text"
      },
      "source": [
        "Limpia graficos anteriores de tensorboard"
      ]
    },
    {
      "cell_type": "code",
      "metadata": {
        "id": "XMe-hPILiz1x",
        "colab_type": "code",
        "colab": {}
      },
      "source": [
        "tf.reset_default_graph()"
      ],
      "execution_count": 0,
      "outputs": []
    },
    {
      "cell_type": "markdown",
      "metadata": {
        "id": "cmWD9Bh7lMc7",
        "colab_type": "text"
      },
      "source": [
        "###Datos\n",
        "En este dataset la data de entrada es un conjunto imagenes que estan centradas y estandarizadas en tamaño (28X28x1 pixels, en blanco y negro), no es requerida limpieza de los datos. La data de salida esta conformada por un conjuto finito de datos etiquetados entre el valor 0 y el 9, data categórica.\n",
        "Lectura de los datos de entrenamiento"
      ]
    },
    {
      "cell_type": "code",
      "metadata": {
        "id": "wcHVhWLQ1xM2",
        "colab_type": "code",
        "outputId": "4b72ba97-1385-4a35-ed37-eae856e53774",
        "colab": {
          "base_uri": "https://localhost:8080/",
          "height": 54
        }
      },
      "source": [
        "train_ds = tfds.load(\"mnist\", split=tfds.Split.TRAIN, batch_size=-1)\n",
        "numpy_ds = tfds.as_numpy(train_ds)\n",
        "numpy_images, numpy_labels = numpy_ds[\"image\"], numpy_ds[\"label\"]"
      ],
      "execution_count": 832,
      "outputs": [
        {
          "output_type": "stream",
          "text": [
            "WARNING:absl:Warning: Setting shuffle_files=True because split=TRAIN and shuffle_files=None. This behavior will be deprecated on 2019-08-06, at which point shuffle_files=False will be the default for all splits.\n"
          ],
          "name": "stderr"
        }
      ]
    },
    {
      "cell_type": "code",
      "metadata": {
        "id": "9Kxoiod2_hjK",
        "colab_type": "code",
        "outputId": "7d7da054-a864-45d4-b0ba-29e95bc8d94d",
        "colab": {
          "base_uri": "https://localhost:8080/",
          "height": 34
        }
      },
      "source": [
        "numpy_images.shape"
      ],
      "execution_count": 833,
      "outputs": [
        {
          "output_type": "execute_result",
          "data": {
            "text/plain": [
              "(60000, 28, 28, 1)"
            ]
          },
          "metadata": {
            "tags": []
          },
          "execution_count": 833
        }
      ]
    },
    {
      "cell_type": "markdown",
      "metadata": {
        "id": "EAE803OqmPx2",
        "colab_type": "text"
      },
      "source": [
        "Como la entrada a la CNN debe ser de una dimension, se requiere una transformacion de la data de entrada de 60000x28x28x1 a 60000x784"
      ]
    },
    {
      "cell_type": "code",
      "metadata": {
        "id": "Q6J40p-CRzYJ",
        "colab_type": "code",
        "colab": {}
      },
      "source": [
        "width = 28 # ancho de la imagen en pixels\n",
        "height = 28 # altura de la imagen en pixels\n",
        "flat = width * height # numero de pixels de la imagen\n",
        "class_output = 10 # numero de clases"
      ],
      "execution_count": 0,
      "outputs": []
    },
    {
      "cell_type": "code",
      "metadata": {
        "id": "JRzVt5hYbByQ",
        "colab_type": "code",
        "colab": {}
      },
      "source": [
        "numpy_images=numpy_images.reshape(60000,flat)"
      ],
      "execution_count": 0,
      "outputs": []
    },
    {
      "cell_type": "code",
      "metadata": {
        "id": "HSHsUaUpUqgs",
        "colab_type": "code",
        "outputId": "4945db1a-3a6a-41b0-cc0e-f6f71653fb2a",
        "colab": {
          "base_uri": "https://localhost:8080/",
          "height": 34
        }
      },
      "source": [
        "numpy_images.shape"
      ],
      "execution_count": 836,
      "outputs": [
        {
          "output_type": "execute_result",
          "data": {
            "text/plain": [
              "(60000, 784)"
            ]
          },
          "metadata": {
            "tags": []
          },
          "execution_count": 836
        }
      ]
    },
    {
      "cell_type": "markdown",
      "metadata": {
        "id": "BgclhEqP9yNt",
        "colab_type": "text"
      },
      "source": [
        "La siguiente figura muestra la imagen de un numero perteneciente al conjunto de entrenamiento"
      ]
    },
    {
      "cell_type": "code",
      "metadata": {
        "id": "JzbUa6Rrtebk",
        "colab_type": "code",
        "outputId": "5a04174b-4c6b-4126-82aa-458ccc567c46",
        "colab": {
          "base_uri": "https://localhost:8080/",
          "height": 286
        }
      },
      "source": [
        "image_index = 77\n",
        "img=numpy_images[image_index].reshape(width,height)\n",
        "plt.imshow(img, cmap=\"gray\")"
      ],
      "execution_count": 837,
      "outputs": [
        {
          "output_type": "execute_result",
          "data": {
            "text/plain": [
              "<matplotlib.image.AxesImage at 0x7f4a71c83f28>"
            ]
          },
          "metadata": {
            "tags": []
          },
          "execution_count": 837
        },
        {
          "output_type": "display_data",
          "data": {
            "image/png": "[encoded data removed]",
            "text/plain": [
              "<Figure size 432x288 with 1 Axes>"
            ]
          },
          "metadata": {
            "tags": []
          }
        }
      ]
    },
    {
      "cell_type": "code",
      "metadata": {
        "id": "3_KN0Yw6DGLD",
        "colab_type": "code",
        "outputId": "adb86571-c9b3-4624-ab1c-4694525521b5",
        "colab": {
          "base_uri": "https://localhost:8080/",
          "height": 34
        }
      },
      "source": [
        "numpy_labels.shape"
      ],
      "execution_count": 838,
      "outputs": [
        {
          "output_type": "execute_result",
          "data": {
            "text/plain": [
              "(60000,)"
            ]
          },
          "metadata": {
            "tags": []
          },
          "execution_count": 838
        }
      ]
    },
    {
      "cell_type": "markdown",
      "metadata": {
        "id": "PxpqZOi4nIe3",
        "colab_type": "text"
      },
      "source": [
        "Lectura de los datos de prueba"
      ]
    },
    {
      "cell_type": "code",
      "metadata": {
        "id": "DJhRTr97Z7uV",
        "colab_type": "code",
        "colab": {}
      },
      "source": [
        "test_ds = tfds.load(\"mnist\", split=tfds.Split.TEST, batch_size=-1)\n",
        "numpy_ds_test = tfds.as_numpy(test_ds)\n",
        "numpy_images_test, numpy_labels_test = numpy_ds_test[\"image\"], numpy_ds_test[\"label\"]"
      ],
      "execution_count": 0,
      "outputs": []
    },
    {
      "cell_type": "code",
      "metadata": {
        "id": "YzWroSUra6lp",
        "colab_type": "code",
        "outputId": "87d5196d-d623-45ac-ee0d-833befe54f9a",
        "colab": {
          "base_uri": "https://localhost:8080/",
          "height": 34
        }
      },
      "source": [
        "numpy_images_test.shape"
      ],
      "execution_count": 840,
      "outputs": [
        {
          "output_type": "execute_result",
          "data": {
            "text/plain": [
              "(10000, 28, 28, 1)"
            ]
          },
          "metadata": {
            "tags": []
          },
          "execution_count": 840
        }
      ]
    },
    {
      "cell_type": "code",
      "metadata": {
        "id": "sTvF0A92azy5",
        "colab_type": "code",
        "outputId": "3c80107c-298a-4384-ee59-719d630ef9c5",
        "colab": {
          "base_uri": "https://localhost:8080/",
          "height": 34
        }
      },
      "source": [
        "numpy_images_test=numpy_images_test.reshape(10000,flat)\n",
        "numpy_images_test.shape"
      ],
      "execution_count": 841,
      "outputs": [
        {
          "output_type": "execute_result",
          "data": {
            "text/plain": [
              "(10000, 784)"
            ]
          },
          "metadata": {
            "tags": []
          },
          "execution_count": 841
        }
      ]
    },
    {
      "cell_type": "code",
      "metadata": {
        "colab_type": "code",
        "id": "pV7pwioKNW_r",
        "outputId": "88777d91-1547-45c3-dd90-a958277fb6ee",
        "colab": {
          "base_uri": "https://localhost:8080/",
          "height": 71
        }
      },
      "source": [
        "sess = tf.InteractiveSession()#se crea una sesion interativa, ideal para notebooks"
      ],
      "execution_count": 842,
      "outputs": [
        {
          "output_type": "stream",
          "text": [
            "/usr/local/lib/python3.6/dist-packages/tensorflow/python/client/session.py:1735: UserWarning: An interactive session is already active. This can cause out-of-memory errors in some cases. You must explicitly call `InteractiveSession.close()` to release resources held by the other session(s).\n",
            "  warnings.warn('An interactive session is already active. This can '\n"
          ],
          "name": "stderr"
        }
      ]
    },
    {
      "cell_type": "markdown",
      "metadata": {
        "id": "uvTrEfCZzO7G",
        "colab_type": "text"
      },
      "source": [
        "Los algoritmos de \"machine learning\" no funcionan bien con data categorica directamente. Por tanto, se deben codificar estas categorias numéricas en vectores binarios. Para este caso donde existen 10 clases de salida representadas por un valor decimal entre 0 y 9. Se codificaran en un vector binario 1x10 donde solo existe una columna con un valor 1 mientras el resto son 0."
      ]
    },
    {
      "cell_type": "code",
      "metadata": {
        "id": "Th2gOhq2ETUA",
        "colab_type": "code",
        "colab": {}
      },
      "source": [
        "numpy_labels=tf.one_hot(numpy_labels, depth=class_output)\n",
        "labels=sess.run(numpy_labels)"
      ],
      "execution_count": 0,
      "outputs": []
    },
    {
      "cell_type": "code",
      "metadata": {
        "id": "8Qp1qcaH41az",
        "colab_type": "code",
        "outputId": "9f4d594d-f60c-4a63-b570-9ce63472c5bd",
        "colab": {
          "base_uri": "https://localhost:8080/",
          "height": 34
        }
      },
      "source": [
        "labels.shape"
      ],
      "execution_count": 844,
      "outputs": [
        {
          "output_type": "execute_result",
          "data": {
            "text/plain": [
              "(60000, 10)"
            ]
          },
          "metadata": {
            "tags": []
          },
          "execution_count": 844
        }
      ]
    },
    {
      "cell_type": "markdown",
      "metadata": {
        "id": "9UsfdPiq2_6V",
        "colab_type": "text"
      },
      "source": [
        "Se realiza la misma codificación para el conjunto de prueba"
      ]
    },
    {
      "cell_type": "code",
      "metadata": {
        "id": "9gX1U2nuaRZu",
        "colab_type": "code",
        "colab": {}
      },
      "source": [
        "numpy_labels_test=tf.one_hot(numpy_labels_test, depth=class_output)\n",
        "labels_test=sess.run(numpy_labels_test)"
      ],
      "execution_count": 0,
      "outputs": []
    },
    {
      "cell_type": "code",
      "metadata": {
        "id": "lSVD5fl9M3Vd",
        "colab_type": "code",
        "outputId": "c52d8be5-816d-4b90-c996-d3964f16d704",
        "colab": {
          "base_uri": "https://localhost:8080/",
          "height": 34
        }
      },
      "source": [
        "labels_test.shape"
      ],
      "execution_count": 846,
      "outputs": [
        {
          "output_type": "execute_result",
          "data": {
            "text/plain": [
              "(10000, 10)"
            ]
          },
          "metadata": {
            "tags": []
          },
          "execution_count": 846
        }
      ]
    },
    {
      "cell_type": "markdown",
      "metadata": {
        "id": "K2IDtYKO5JBc",
        "colab_type": "text"
      },
      "source": [
        "###Entrenamiento\n",
        "\n",
        "La arquitectura de la CNN que se usará es la siguiente:\n",
        "\n",
        "*   (Input) -> [batch_size, 28, 28, 1] >> Applicando 32 filtros de [5x5]\n",
        "*   (Convolutional layer 1) -> [batch_size, 28, 28, 32]\n",
        "*   (ReLU 1) -> [?, 28, 28, 32]\n",
        "*   (Max pooling 1) -> [?, 14, 14, 32]\n",
        "*   (Convolutional layer 2) -> [?, 14, 14, 64]\n",
        "*   (ReLU 2) -> [?, 14, 14, 64]\n",
        "*   (Max pooling 2) -> [?, 7, 7, 64]\n",
        "*   (fully connected layer 3) -> [1x1024]\n",
        "*   (ReLU 3) -> [1x1024]\n",
        "*   (Drop out) -> [1x1024]\n",
        "*   (fully connected layer 4) -> [1x10]\n"
      ]
    },
    {
      "cell_type": "markdown",
      "metadata": {
        "id": "sznF01iCYfzQ",
        "colab_type": "text"
      },
      "source": [
        "\n",
        "Se crean \"placeHolders\" para la variables de entrada (x) y la de salida (y_)."
      ]
    },
    {
      "cell_type": "code",
      "metadata": {
        "id": "XVg2nfu-ETgX",
        "colab_type": "code",
        "colab": {}
      },
      "source": [
        "x  = tf.placeholder(tf.float32, shape=[None, flat], name=\"x\")\n",
        "y_ = tf.placeholder(tf.float32, shape=[None, class_output], name=\"y_\")"
      ],
      "execution_count": 0,
      "outputs": []
    },
    {
      "cell_type": "code",
      "metadata": {
        "id": "0VOMcaWZqGoz",
        "colab_type": "code",
        "outputId": "fdc70e41-1701-4334-9032-e82997897d9c",
        "colab": {
          "base_uri": "https://localhost:8080/",
          "height": 34
        }
      },
      "source": [
        "x_image = tf.reshape(x, [-1,28,28,1])  \n",
        "x_image"
      ],
      "execution_count": 848,
      "outputs": [
        {
          "output_type": "execute_result",
          "data": {
            "text/plain": [
              "<tf.Tensor 'Reshape:0' shape=(?, 28, 28, 1) dtype=float32>"
            ]
          },
          "metadata": {
            "tags": []
          },
          "execution_count": 848
        }
      ]
    },
    {
      "cell_type": "markdown",
      "metadata": {
        "id": "pxfYy0aeCT6J",
        "colab_type": "text"
      },
      "source": [
        "####Convolutional Layer 1\n"
      ]
    },
    {
      "cell_type": "code",
      "metadata": {
        "id": "DQXXiVl2FTiq",
        "colab_type": "code",
        "colab": {}
      },
      "source": [
        "W_conv1 = tf.Variable(tf.truncated_normal([5, 5, 1, 32], stddev=0.01), name=\"w1\")\n",
        "b_conv1 = tf.Variable(tf.constant(0.01, shape=[32]), name=\"b1\") \n",
        "#new_W_conv1=tf.reduce_mean(W_conv1)\n",
        "#new_b_conv1=tf.reduce_mean(b_conv1)"
      ],
      "execution_count": 0,
      "outputs": []
    },
    {
      "cell_type": "code",
      "metadata": {
        "id": "F_iKOI2vrACI",
        "colab_type": "code",
        "colab": {}
      },
      "source": [
        "with tf.name_scope('convolution_layer_1'):\n",
        "  convolve1= tf.nn.conv2d(x_image, W_conv1, strides=[1, 1, 1, 1], padding='SAME') + b_conv1\n",
        "  h_conv1 = tf.nn.relu(convolve1)\n",
        "  conv1 = tf.nn.max_pool(h_conv1, ksize=[1, 2, 2, 1], strides=[1, 2, 2, 1], padding='SAME', name=\"convolution\") #max_pool_2x2\n",
        "  conv1"
      ],
      "execution_count": 0,
      "outputs": []
    },
    {
      "cell_type": "markdown",
      "metadata": {
        "id": "362QvxCHtR3q",
        "colab_type": "text"
      },
      "source": [
        "####Convolutional Layer 2"
      ]
    },
    {
      "cell_type": "code",
      "metadata": {
        "id": "QdMz0HNktVdD",
        "colab_type": "code",
        "colab": {}
      },
      "source": [
        "W_conv2 = tf.Variable(tf.truncated_normal([5, 5, 32, 64], stddev=0.01), name=\"w2\")\n",
        "b_conv2 = tf.Variable(tf.constant(0.01, shape=[64]), name=\"b2\") \n",
        "#new_W_conv2=tf.reduce_mean(W_conv2)\n",
        "#new_b_conv2=tf.reduce_mean(b_conv2)"
      ],
      "execution_count": 0,
      "outputs": []
    },
    {
      "cell_type": "code",
      "metadata": {
        "id": "CC57g6GftYlp",
        "colab_type": "code",
        "colab": {}
      },
      "source": [
        "with tf.name_scope('convolution_layer_2'):\n",
        "  convolve2= tf.nn.conv2d(conv1, W_conv2, strides=[1, 1, 1, 1], padding='SAME') + b_conv2\n",
        "  h_conv2 = tf.nn.relu(convolve2)\n",
        "  conv2 = tf.nn.max_pool(h_conv2, ksize=[1, 2, 2, 1], strides=[1, 2, 2, 1], padding='SAME', name=\"convolution\") #max_pool_2x2\n",
        "  conv2"
      ],
      "execution_count": 0,
      "outputs": []
    },
    {
      "cell_type": "markdown",
      "metadata": {
        "id": "VwhbZgKRth54",
        "colab_type": "text"
      },
      "source": [
        "####Fully Connected Layer"
      ]
    },
    {
      "cell_type": "code",
      "metadata": {
        "id": "i_j4IHIQtkMZ",
        "colab_type": "code",
        "colab": {}
      },
      "source": [
        "layer2_matrix = tf.reshape(conv2, [-1, 7 * 7 * 64])"
      ],
      "execution_count": 0,
      "outputs": []
    },
    {
      "cell_type": "code",
      "metadata": {
        "id": "x1UCmgzNtnGk",
        "colab_type": "code",
        "colab": {}
      },
      "source": [
        "W_fc1 = tf.Variable(tf.truncated_normal([7 * 7 * 64, 1024], stddev=0.01), name=\"w3\")\n",
        "b_fc1 = tf.Variable(tf.constant(0.01, shape=[1024]), name=\"b3\")\n",
        "#new_W_fc1=tf.reduce_mean(W_fc1)\n",
        "#new_b_fc1=tf.reduce_mean(b_fc1)"
      ],
      "execution_count": 0,
      "outputs": []
    },
    {
      "cell_type": "code",
      "metadata": {
        "id": "vrgEEpkxto56",
        "colab_type": "code",
        "colab": {}
      },
      "source": [
        "with tf.name_scope('fully_connected_layer'):\n",
        "  fcl = tf.matmul(layer2_matrix, W_fc1) + b_fc1\n",
        "  h_fc1 = tf.nn.relu(fcl, name=\"fully_connected\")\n",
        "  h_fc1"
      ],
      "execution_count": 0,
      "outputs": []
    },
    {
      "cell_type": "markdown",
      "metadata": {
        "id": "7uPf40Kjtyno",
        "colab_type": "text"
      },
      "source": [
        "####Dropout Layer"
      ]
    },
    {
      "cell_type": "code",
      "metadata": {
        "id": "OxXpJWert242",
        "colab_type": "code",
        "colab": {}
      },
      "source": [
        "keep_prob = tf.placeholder(tf.float32)\n",
        "with tf.name_scope('dropout_layer'):\n",
        "  layer_drop = tf.nn.dropout(h_fc1, keep_prob, name=\"dropout\")\n",
        "  layer_drop"
      ],
      "execution_count": 0,
      "outputs": []
    },
    {
      "cell_type": "markdown",
      "metadata": {
        "id": "ieWcFjDPt_77",
        "colab_type": "text"
      },
      "source": [
        "####Softmax Layer"
      ]
    },
    {
      "cell_type": "code",
      "metadata": {
        "id": "pRoAPR8TuBGa",
        "colab_type": "code",
        "colab": {}
      },
      "source": [
        "W_fc2 = tf.Variable(tf.truncated_normal([1024, 10], stddev=0.01), name=\"w4\") \n",
        "b_fc2 = tf.Variable(tf.constant(0.01, shape=[10]), name=\"b4\") \n",
        "#new_W_fc2=tf.reduce_mean(W_fc2)\n",
        "#new_b_fc2=tf.reduce_mean(b_fc2)"
      ],
      "execution_count": 0,
      "outputs": []
    },
    {
      "cell_type": "code",
      "metadata": {
        "id": "26hm8LeMuD7t",
        "colab_type": "code",
        "colab": {}
      },
      "source": [
        "with tf.name_scope('softmax_layer'):\n",
        "  fc=tf.matmul(layer_drop, W_fc2) + b_fc2\n",
        "  y_CNN= tf.nn.softmax(fc, name=\"softmax\")\n",
        "  y_CNN"
      ],
      "execution_count": 0,
      "outputs": []
    },
    {
      "cell_type": "markdown",
      "metadata": {
        "id": "MCTS12pVjawy",
        "colab_type": "text"
      },
      "source": [
        "Se crea un objeto tensorboard que crea un link donde se visualizará el flujo del grafico, y graficas del costo y la precision"
      ]
    },
    {
      "cell_type": "code",
      "metadata": {
        "id": "Pz_4sigVjZGA",
        "colab_type": "code",
        "outputId": "5503f664-4e63-4df9-c50f-224313ecf72d",
        "colab": {
          "base_uri": "https://localhost:8080/",
          "height": 68
        }
      },
      "source": [
        "from tensorboardcolab import * \n",
        "tbc = TensorBoardColab() \n",
        "writer = tbc.get_writer()"
      ],
      "execution_count": 859,
      "outputs": [
        {
          "output_type": "stream",
          "text": [
            "Wait for 8 seconds...\n",
            "TensorBoard link:\n",
            "http://366fc4df.ngrok.io\n"
          ],
          "name": "stdout"
        }
      ]
    },
    {
      "cell_type": "code",
      "metadata": {
        "id": "d68MC6swEkzM",
        "colab_type": "code",
        "colab": {}
      },
      "source": [
        "with tf.name_scope('cost'):\n",
        "  cross_entropy = tf.reduce_mean(-tf.reduce_sum(y_ * tf.log(y_CNN), reduction_indices=[1]))\n",
        "  tf_loss_summary = tf.summary.scalar('loss', cross_entropy)#se crea un escalar de la funcion de costos"
      ],
      "execution_count": 0,
      "outputs": []
    },
    {
      "cell_type": "markdown",
      "metadata": {
        "id": "7D5k00Z16wR6",
        "colab_type": "text"
      },
      "source": [
        "Para este caso, se usa Adam Optimizer como algoritmo de optimización"
      ]
    },
    {
      "cell_type": "code",
      "metadata": {
        "id": "WFXZe5UJEk2-",
        "colab_type": "code",
        "colab": {}
      },
      "source": [
        "with tf.name_scope('optimization'):\n",
        "  train_step = tf.train.AdamOptimizer(1e-4).minimize(cross_entropy)"
      ],
      "execution_count": 0,
      "outputs": []
    },
    {
      "cell_type": "code",
      "metadata": {
        "id": "oTV6MiwFu9CP",
        "colab_type": "code",
        "colab": {}
      },
      "source": [
        "with tf.name_scope('accuracy'):\n",
        "  correct_prediction = tf.equal(tf.argmax(y_CNN, 1), tf.argmax(y_, 1))\n",
        "  accuracy = tf.reduce_mean(tf.cast(correct_prediction, tf.float32))\n",
        "  tf_acc_summary = tf.summary.scalar('accuracy', accuracy)#se crea un escalar de la precision\n",
        "\n",
        "performance = tf.summary.merge([tf_loss_summary, tf_acc_summary])"
      ],
      "execution_count": 0,
      "outputs": []
    },
    {
      "cell_type": "code",
      "metadata": {
        "id": "Nck2nnS9lwUh",
        "colab_type": "code",
        "colab": {}
      },
      "source": [
        "sess.run(tf.global_variables_initializer())"
      ],
      "execution_count": 0,
      "outputs": []
    },
    {
      "cell_type": "markdown",
      "metadata": {
        "id": "s95UpkeJ7SnS",
        "colab_type": "text"
      },
      "source": [
        "Se ejecutan un conjunto finito de iteraciones, y se analiza la convergencia mediendo la diferencia entre dos sucesivos valores de costo"
      ]
    },
    {
      "cell_type": "code",
      "metadata": {
        "id": "PivojEJo0_0J",
        "colab_type": "code",
        "outputId": "e227caac-b830-4077-99af-8b52a0fee639",
        "colab": {
          "base_uri": "https://localhost:8080/",
          "height": 357
        }
      },
      "source": [
        "batch_size = 60\n",
        "cost=0\n",
        "with tf.name_scope('training'):\n",
        "  for i, j in zip( range(1000), range(int(len(numpy_images)/batch_size)) ):\n",
        "    batch_images = numpy_images[j*batch_size : (j+1)*batch_size]#realizamos al entrenamiento en lotes para evitar sobrecarga de memoria\n",
        "    batch_labels = labels[j*batch_size : (j+1)*batch_size]\n",
        "\n",
        "    _,new_cross_entropy = sess.run([train_step, cross_entropy], feed_dict={x: batch_images, y_: batch_labels, keep_prob: 0.5} )\n",
        "    #_,new_cross_entropy, _W_conv1, _b_conv1, _W_conv2, _b_conv2, _W_fc1, _b_fc1, _W_fc2, _b_fc2 = sess.run([train_step, cross_entropy, new_W_conv1, new_b_conv1, new_W_conv2, new_b_conv2, new_W_fc1, new_b_fc1, new_W_fc2, new_b_fc2], feed_dict={x: batch_images, y_: batch_labels, keep_prob: 0.5} )\n",
        "    diff=abs(cost-new_cross_entropy)\n",
        "    cost=new_cross_entropy\n",
        "\n",
        "    summ = sess.run(performance, feed_dict={x: batch_images, y_: batch_labels, keep_prob: 0.5})\n",
        "    writer.add_summary(summ, i)    \n",
        "\n",
        "    if i%50 == 0:\n",
        "      train_accuracy = accuracy.eval(feed_dict={x:batch_images, y_: batch_labels, keep_prob: 0.5})\n",
        "      print(\"step:{}, cost:{}, training accuracy:{}\".format(i, new_cross_entropy, float(train_accuracy)*100) )\n",
        "      #print(\"step:{}, cost:{}, training accuracy:{}, W_conv1:{}, b_conv1:{}, W_conv2:{}, b_conv2:{}, _W_fc1:{}, _b_fc1:{}, _W_fc2:{}, _b_fc2:{}\".format(i, new_cross_entropy, float(train_accuracy), _W_conv1, _b_conv1, _W_conv2, _b_conv2, _W_fc1, _b_fc1, _W_fc2, _b_fc2) )\n",
        "\n",
        "    if i > 1 and diff < .00001:#usamos un criterio de convergencia de 10-5 para finalizar el entrenamiento\n",
        "        print(\"El entrenamiento converge\")\n",
        "        break\n",
        "\n",
        "writer.add_graph(tf.get_default_graph())\n",
        "writer.flush()        "
      ],
      "execution_count": 864,
      "outputs": [
        {
          "output_type": "stream",
          "text": [
            "step:0, cost:2.3108530044555664, training accuracy:16.66666716337204\n",
            "step:50, cost:0.5799815058708191, training accuracy:88.33333253860474\n",
            "step:100, cost:0.41434016823768616, training accuracy:88.33333253860474\n",
            "step:150, cost:0.1079225242137909, training accuracy:93.33333373069763\n",
            "step:200, cost:0.226412832736969, training accuracy:94.9999988079071\n",
            "step:250, cost:0.13748188316822052, training accuracy:96.66666388511658\n",
            "step:300, cost:0.13523171842098236, training accuracy:94.9999988079071\n",
            "step:350, cost:0.15316060185432434, training accuracy:94.9999988079071\n",
            "step:400, cost:0.07516706734895706, training accuracy:94.9999988079071\n",
            "step:450, cost:0.08998653292655945, training accuracy:98.33333492279053\n",
            "step:500, cost:0.161916121840477, training accuracy:98.33333492279053\n",
            "step:550, cost:0.09033969044685364, training accuracy:96.66666388511658\n",
            "step:600, cost:0.0630493313074112, training accuracy:98.33333492279053\n",
            "step:650, cost:0.07065095752477646, training accuracy:96.66666388511658\n",
            "step:700, cost:0.03269202634692192, training accuracy:100.0\n",
            "step:750, cost:0.06351657211780548, training accuracy:98.33333492279053\n",
            "step:800, cost:0.04486151412129402, training accuracy:100.0\n",
            "step:850, cost:0.11692126840353012, training accuracy:96.66666388511658\n",
            "step:900, cost:0.10087944567203522, training accuracy:98.33333492279053\n",
            "step:950, cost:0.029685409739613533, training accuracy:98.33333492279053\n"
          ],
          "name": "stdout"
        }
      ]
    },
    {
      "cell_type": "code",
      "metadata": {
        "id": "2OAmO9qSEn2S",
        "colab_type": "code",
        "colab": {}
      },
      "source": [
        "sess.close() "
      ],
      "execution_count": 0,
      "outputs": []
    }
  ]
}