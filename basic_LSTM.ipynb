{
  "nbformat": 4,
  "nbformat_minor": 0,
  "metadata": {
    "colab": {
      "name": "basic LSTM.ipynb",
      "provenance": [],
      "collapsed_sections": [],
      "include_colab_link": true
    },
    "kernelspec": {
      "name": "python3",
      "display_name": "Python 3"
    }
  },
  "cells": [
    {
      "cell_type": "markdown",
      "metadata": {
        "id": "view-in-github",
        "colab_type": "text"
      },
      "source": [
        "<a href=\"https://colab.research.google.com/github/jacr2006/tensorflow/blob/master/basic_LSTM.ipynb\" target=\"_parent\"><img src=\"https://colab.research.google.com/assets/colab-badge.svg\" alt=\"Open In Colab\"/></a>"
      ]
    },
    {
      "cell_type": "markdown",
      "metadata": {
        "id": "Yb0soPYa1DBs",
        "colab_type": "text"
      },
      "source": [
        "##LSTM"
      ]
    },
    {
      "cell_type": "code",
      "metadata": {
        "id": "JBq93ccuryP7",
        "colab_type": "code",
        "colab": {}
      },
      "source": [
        "import numpy as np\n",
        "import tensorflow as tf\n",
        "sess = tf.Session()"
      ],
      "execution_count": 0,
      "outputs": []
    },
    {
      "cell_type": "code",
      "metadata": {
        "id": "nIqOodX_r3zx",
        "colab_type": "code",
        "outputId": "21b48945-680c-4214-e3d8-0ffaa5528141",
        "colab": {
          "base_uri": "https://localhost:8080/",
          "height": 51
        }
      },
      "source": [
        "LSTM_CELL_SIZE = 4  # tamaño del arreglo horizontal de celdas LSTM interconectadas (4 hidden nodes)\n",
        "\n",
        "lstm_cell = tf.contrib.rnn.BasicLSTMCell(LSTM_CELL_SIZE, state_is_tuple=True)#LSTM basica\n",
        "state = (tf.ones([1,LSTM_CELL_SIZE]), tf.zeros([1,LSTM_CELL_SIZE]))#tuple con dos elementos: uno para la salida anterior y otro para el estado anterior\n",
        "print(state[0])\n",
        "print(state[1])"
      ],
      "execution_count": 0,
      "outputs": [
        {
          "output_type": "stream",
          "text": [
            "Tensor(\"ones_2:0\", shape=(1, 4), dtype=float32)\n",
            "Tensor(\"zeros_2:0\", shape=(1, 4), dtype=float32)\n"
          ],
          "name": "stdout"
        }
      ]
    },
    {
      "cell_type": "code",
      "metadata": {
        "id": "VoE_DiVer5qO",
        "colab_type": "code",
        "outputId": "d2eb68d4-2408-4b6b-e1e5-7fe01c7f475c",
        "colab": {
          "base_uri": "https://localhost:8080/",
          "height": 34
        }
      },
      "source": [
        "input_ = tf.constant([[3,2,2,2,2,2,1,1,0]],dtype=tf.float32)# entrada: 9 sequencias\n",
        "print (sess.run(input_))"
      ],
      "execution_count": 0,
      "outputs": [
        {
          "output_type": "stream",
          "text": [
            "[[3. 2. 2. 2. 2. 2. 1. 1. 0.]]\n"
          ],
          "name": "stdout"
        }
      ]
    },
    {
      "cell_type": "code",
      "metadata": {
        "id": "d5b-_anBr_hm",
        "colab_type": "code",
        "outputId": "d1c24362-e2a9-40c9-f211-353d1a90800c",
        "colab": {
          "base_uri": "https://localhost:8080/",
          "height": 54
        }
      },
      "source": [
        "with tf.variable_scope(\"LSTM_sample7\"):\n",
        "    output, state_new = lstm_cell(input_, state)#se procesa la entrada\n",
        "sess.run(tf.global_variables_initializer())\n",
        "print (sess.run(state_new))#se imprime el tuple de salida: estado nuevo y salida nueva"
      ],
      "execution_count": 0,
      "outputs": [
        {
          "output_type": "stream",
          "text": [
            "LSTMStateTuple(c=array([[1.4984832 , 1.3025461 , 0.06214496, 1.3254421 ]], dtype=float32), h=array([[0.8190416 , 0.23562162, 0.00230268, 0.4425292 ]], dtype=float32))\n"
          ],
          "name": "stdout"
        }
      ]
    },
    {
      "cell_type": "code",
      "metadata": {
        "id": "YL_8Vr6gsBOf",
        "colab_type": "code",
        "outputId": "0e2452d5-0b5f-4ee9-82b9-81380ef86518",
        "colab": {
          "base_uri": "https://localhost:8080/",
          "height": 34
        }
      },
      "source": [
        "print (sess.run(output))#se imprime la salida nueva, tambien forma parte del tuple anteriormente impreso"
      ],
      "execution_count": 0,
      "outputs": [
        {
          "output_type": "stream",
          "text": [
            "[[0.8190416  0.23562162 0.00230268 0.4425292 ]]\n"
          ],
          "name": "stdout"
        }
      ]
    },
    {
      "cell_type": "code",
      "metadata": {
        "id": "mL6L4OuLuBtd",
        "colab_type": "code",
        "colab": {}
      },
      "source": [
        "sess.close()"
      ],
      "execution_count": 0,
      "outputs": []
    }
  ]
}