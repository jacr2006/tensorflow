{
  "nbformat": 4,
  "nbformat_minor": 0,
  "metadata": {
    "colab": {
      "name": "stacked LSTM.ipynb",
      "version": "0.3.2",
      "provenance": [],
      "collapsed_sections": [],
      "include_colab_link": true
    },
    "kernelspec": {
      "name": "python3",
      "display_name": "Python 3"
    }
  },
  "cells": [
    {
      "cell_type": "markdown",
      "metadata": {
        "id": "view-in-github",
        "colab_type": "text"
      },
      "source": [
        "<a href=\"https://colab.research.google.com/github/jacr2006/tensorflow/blob/master/stacked_LSTM.ipynb\" target=\"_parent\"><img src=\"https://colab.research.google.com/assets/colab-badge.svg\" alt=\"Open In Colab\"/></a>"
      ]
    },
    {
      "cell_type": "markdown",
      "metadata": {
        "id": "Yb0soPYa1DBs",
        "colab_type": "text"
      },
      "source": [
        "##Stacked LSTM"
      ]
    },
    {
      "cell_type": "code",
      "metadata": {
        "id": "JBq93ccuryP7",
        "colab_type": "code",
        "colab": {}
      },
      "source": [
        "import numpy as np\n",
        "import tensorflow as tf\n",
        "sess = tf.Session()"
      ],
      "execution_count": 0,
      "outputs": []
    },
    {
      "cell_type": "code",
      "metadata": {
        "id": "VoE_DiVer5qO",
        "colab_type": "code",
        "colab": {}
      },
      "source": [
        "cells = []\n",
        "LSTM_CELL_SIZE_1 = 4 # tamaño del arreglo horizontal de celdas LSTM  interconectadas (4 hidden nodes)\n",
        "cell1 = tf.contrib.rnn.LSTMCell(LSTM_CELL_SIZE_1)\n",
        "cells.append(cell1)"
      ],
      "execution_count": 0,
      "outputs": []
    },
    {
      "cell_type": "code",
      "metadata": {
        "id": "d5b-_anBr_hm",
        "colab_type": "code",
        "colab": {}
      },
      "source": [
        "LSTM_CELL_SIZE_2 = 5 # tamaño del arreglo horizontal de celdas LSTM interconectadas (5 hidden nodes)\n",
        "cell2 = tf.contrib.rnn.LSTMCell(LSTM_CELL_SIZE_2)\n",
        "cells.append(cell2)"
      ],
      "execution_count": 0,
      "outputs": []
    },
    {
      "cell_type": "code",
      "metadata": {
        "id": "YL_8Vr6gsBOf",
        "colab_type": "code",
        "colab": {}
      },
      "source": [
        "stacked_lstm = tf.contrib.rnn.MultiRNNCell(cells) # pila de profundidad de 2"
      ],
      "execution_count": 0,
      "outputs": []
    },
    {
      "cell_type": "code",
      "metadata": {
        "id": "mL6L4OuLuBtd",
        "colab_type": "code",
        "colab": {}
      },
      "source": [
        "input_dim = 6\n",
        "# tamaño de la data de entrada= batch size x time steps x features.\n",
        "data = tf.placeholder(tf.float32, [None, None, input_dim])\n",
        "\n",
        "with tf.variable_scope(\"LSTM_sample8\"):\n",
        "  output, state = tf.nn.dynamic_rnn(stacked_lstm, data, dtype=tf.float32)"
      ],
      "execution_count": 0,
      "outputs": []
    },
    {
      "cell_type": "code",
      "metadata": {
        "id": "mXTQxnrT2egz",
        "colab_type": "code",
        "outputId": "bf51ee1e-355a-4e8e-fe0e-61ac5ea95f67",
        "colab": {
          "base_uri": "https://localhost:8080/",
          "height": 51
        }
      },
      "source": [
        "#tamaño de la data de entrada= batch size x time steps x features\n",
        "sample_input = [[[1,2,3,4,3,2], [1,2,1,1,1,2],[1,2,2,2,2,2]],[[1,2,3,4,3,2],[3,2,2,1,1,2],[0,0,0,0,3,2]]]\n",
        "sample_input"
      ],
      "execution_count": 28,
      "outputs": [
        {
          "output_type": "execute_result",
          "data": {
            "text/plain": [
              "[[[1, 2, 3, 4, 3, 2], [1, 2, 1, 1, 1, 2], [1, 2, 2, 2, 2, 2]],\n",
              " [[1, 2, 3, 4, 3, 2], [3, 2, 2, 1, 1, 2], [0, 0, 0, 0, 3, 2]]]"
            ]
          },
          "metadata": {
            "tags": []
          },
          "execution_count": 28
        }
      ]
    },
    {
      "cell_type": "code",
      "metadata": {
        "id": "zVN-zDHp2jaO",
        "colab_type": "code",
        "outputId": "553dd8b7-42ec-468e-fbe3-14e1ef414961",
        "colab": {
          "base_uri": "https://localhost:8080/",
          "height": 238
        }
      },
      "source": [
        "sess.run(tf.global_variables_initializer())\n",
        "sess.run(output, feed_dict={data: sample_input})"
      ],
      "execution_count": 29,
      "outputs": [
        {
          "output_type": "execute_result",
          "data": {
            "text/plain": [
              "array([[[-0.01762594,  0.00318411, -0.01316848, -0.0018183 ,\n",
              "         -0.02599927],\n",
              "        [-0.0305906 ,  0.00120196, -0.0237272 , -0.01229846,\n",
              "         -0.05130582],\n",
              "        [-0.04925388,  0.01130081, -0.03409155, -0.02688125,\n",
              "         -0.08365775]],\n",
              "\n",
              "       [[-0.01762594,  0.00318411, -0.01316848, -0.0018183 ,\n",
              "         -0.02599927],\n",
              "        [-0.02447897,  0.00213181, -0.01768477, -0.0147726 ,\n",
              "         -0.03787531],\n",
              "        [-0.02917714, -0.02988949, -0.01089103, -0.02225822,\n",
              "         -0.08846016]]], dtype=float32)"
            ]
          },
          "metadata": {
            "tags": []
          },
          "execution_count": 29
        }
      ]
    },
    {
      "cell_type": "code",
      "metadata": {
        "id": "QIXANLni88SR",
        "colab_type": "code",
        "colab": {
          "base_uri": "https://localhost:8080/",
          "height": 187
        },
        "outputId": "49770ff0-1462-41ee-e00d-66a5e8a2796c"
      },
      "source": [
        "sess.run(state, feed_dict={data: sample_input})"
      ],
      "execution_count": 30,
      "outputs": [
        {
          "output_type": "execute_result",
          "data": {
            "text/plain": [
              "(LSTMStateTuple(c=array([[-0.49696696, -0.96001655, -0.77745795,  0.6674912 ],\n",
              "       [-0.65870774, -0.97005635, -1.2598883 ,  0.10602276]],\n",
              "      dtype=float32), h=array([[-0.3542105 , -0.47739547, -0.09849919,  0.08151224],\n",
              "       [-0.4967421 , -0.5918151 , -0.48335788,  0.02532766]],\n",
              "      dtype=float32)),\n",
              " LSTMStateTuple(c=array([[-0.09328468,  0.02452589, -0.07543916, -0.055902  , -0.14498857],\n",
              "       [-0.05678251, -0.07149417, -0.02618734, -0.04526697, -0.14914006]],\n",
              "      dtype=float32), h=array([[-0.04925388,  0.01130081, -0.03409155, -0.02688125, -0.08365775],\n",
              "       [-0.02917714, -0.02988949, -0.01089103, -0.02225822, -0.08846016]],\n",
              "      dtype=float32)))"
            ]
          },
          "metadata": {
            "tags": []
          },
          "execution_count": 30
        }
      ]
    },
    {
      "cell_type": "code",
      "metadata": {
        "id": "gHGHoeq63g-t",
        "colab_type": "code",
        "colab": {}
      },
      "source": [
        "sess.close()"
      ],
      "execution_count": 0,
      "outputs": []
    }
  ]
}