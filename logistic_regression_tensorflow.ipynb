{
  "nbformat": 4,
  "nbformat_minor": 0,
  "metadata": {
    "colab": {
      "name": "logistic regression tensorflow.ipynb",
      "version": "0.3.2",
      "provenance": [],
      "collapsed_sections": [],
      "include_colab_link": true
    },
    "kernelspec": {
      "name": "python3",
      "display_name": "Python 3"
    },
    "accelerator": "GPU"
  },
  "cells": [
    {
      "cell_type": "markdown",
      "metadata": {
        "id": "view-in-github",
        "colab_type": "text"
      },
      "source": [
        "<a href=\"https://colab.research.google.com/github/jacr2006/tensorflow/blob/master/logistic_regression_tensorflow.ipynb\" target=\"_parent\"><img src=\"https://colab.research.google.com/assets/colab-badge.svg\" alt=\"Open In Colab\"/></a>"
      ]
    },
    {
      "cell_type": "markdown",
      "metadata": {
        "id": "cdzP0N1H8YmI",
        "colab_type": "text"
      },
      "source": [
        "##Regresion logistica con Tensorflow\n",
        "\n",
        "El propósito de esta regresion logistica es inferir la clase de iris observando el ancho y la longitud del petalo y el sepal.\n",
        "Se dispone del dataset \"Iris Data Set\", disponible en:\n",
        "https://archive.ics.uci.edu/ml/datasets/iris\n",
        "\n",
        "Las características del dataset son:\n",
        "\n",
        "*   sepal length in cm \n",
        "*   sepal width in cm \n",
        "*   petal length in cm \n",
        "*   petal width in cm \n",
        "\n",
        "y las clases son:\n",
        "\n",
        "*   iris Setosa \n",
        "*   iris Versicolour \n",
        "*   iris Virginica\n"
      ]
    },
    {
      "cell_type": "markdown",
      "metadata": {
        "id": "kd6OKZ8D7BkJ",
        "colab_type": "text"
      },
      "source": [
        "Importar las librerias necesarias"
      ]
    },
    {
      "cell_type": "code",
      "metadata": {
        "id": "TYeGfjxAH8Jl",
        "colab_type": "code",
        "colab": {}
      },
      "source": [
        "import tensorflow as tf\n",
        "import pandas as pd\n",
        "import numpy as np\n",
        "import time\n",
        "from sklearn.datasets import load_iris\n",
        "from sklearn.model_selection import train_test_split\n",
        "import matplotlib.pyplot as plt"
      ],
      "execution_count": 0,
      "outputs": []
    },
    {
      "cell_type": "code",
      "metadata": {
        "id": "Qv6x4H4sIacY",
        "colab_type": "code",
        "outputId": "36dd2d52-40cd-4c52-aa04-decd23d1c1a0",
        "colab": {
          "base_uri": "https://localhost:8080/",
          "height": 1000
        }
      },
      "source": [
        "iris = load_iris()\n",
        "print(iris.data.shape)\n",
        "print(iris.data[0,:])\n",
        "print(iris.target.shape)\n",
        "print(iris.target[0])\n",
        "iris_X, iris_y = iris.data[:-1,:], iris.target[:-1]\n",
        "print(iris_y)\n",
        "iris_y= pd.get_dummies(iris_y).values\n",
        "print(iris_y)\n",
        "trainX, testX, trainY, testY = train_test_split(iris_X, iris_y, test_size=0.33, random_state=42)"
      ],
      "execution_count": 18,
      "outputs": [
        {
          "output_type": "stream",
          "text": [
            "(150, 4)\n",
            "[5.1 3.5 1.4 0.2]\n",
            "(150,)\n",
            "0\n",
            "[0 0 0 0 0 0 0 0 0 0 0 0 0 0 0 0 0 0 0 0 0 0 0 0 0 0 0 0 0 0 0 0 0 0 0 0 0\n",
            " 0 0 0 0 0 0 0 0 0 0 0 0 0 1 1 1 1 1 1 1 1 1 1 1 1 1 1 1 1 1 1 1 1 1 1 1 1\n",
            " 1 1 1 1 1 1 1 1 1 1 1 1 1 1 1 1 1 1 1 1 1 1 1 1 1 1 2 2 2 2 2 2 2 2 2 2 2\n",
            " 2 2 2 2 2 2 2 2 2 2 2 2 2 2 2 2 2 2 2 2 2 2 2 2 2 2 2 2 2 2 2 2 2 2 2 2 2\n",
            " 2]\n",
            "[[1 0 0]\n",
            " [1 0 0]\n",
            " [1 0 0]\n",
            " [1 0 0]\n",
            " [1 0 0]\n",
            " [1 0 0]\n",
            " [1 0 0]\n",
            " [1 0 0]\n",
            " [1 0 0]\n",
            " [1 0 0]\n",
            " [1 0 0]\n",
            " [1 0 0]\n",
            " [1 0 0]\n",
            " [1 0 0]\n",
            " [1 0 0]\n",
            " [1 0 0]\n",
            " [1 0 0]\n",
            " [1 0 0]\n",
            " [1 0 0]\n",
            " [1 0 0]\n",
            " [1 0 0]\n",
            " [1 0 0]\n",
            " [1 0 0]\n",
            " [1 0 0]\n",
            " [1 0 0]\n",
            " [1 0 0]\n",
            " [1 0 0]\n",
            " [1 0 0]\n",
            " [1 0 0]\n",
            " [1 0 0]\n",
            " [1 0 0]\n",
            " [1 0 0]\n",
            " [1 0 0]\n",
            " [1 0 0]\n",
            " [1 0 0]\n",
            " [1 0 0]\n",
            " [1 0 0]\n",
            " [1 0 0]\n",
            " [1 0 0]\n",
            " [1 0 0]\n",
            " [1 0 0]\n",
            " [1 0 0]\n",
            " [1 0 0]\n",
            " [1 0 0]\n",
            " [1 0 0]\n",
            " [1 0 0]\n",
            " [1 0 0]\n",
            " [1 0 0]\n",
            " [1 0 0]\n",
            " [1 0 0]\n",
            " [0 1 0]\n",
            " [0 1 0]\n",
            " [0 1 0]\n",
            " [0 1 0]\n",
            " [0 1 0]\n",
            " [0 1 0]\n",
            " [0 1 0]\n",
            " [0 1 0]\n",
            " [0 1 0]\n",
            " [0 1 0]\n",
            " [0 1 0]\n",
            " [0 1 0]\n",
            " [0 1 0]\n",
            " [0 1 0]\n",
            " [0 1 0]\n",
            " [0 1 0]\n",
            " [0 1 0]\n",
            " [0 1 0]\n",
            " [0 1 0]\n",
            " [0 1 0]\n",
            " [0 1 0]\n",
            " [0 1 0]\n",
            " [0 1 0]\n",
            " [0 1 0]\n",
            " [0 1 0]\n",
            " [0 1 0]\n",
            " [0 1 0]\n",
            " [0 1 0]\n",
            " [0 1 0]\n",
            " [0 1 0]\n",
            " [0 1 0]\n",
            " [0 1 0]\n",
            " [0 1 0]\n",
            " [0 1 0]\n",
            " [0 1 0]\n",
            " [0 1 0]\n",
            " [0 1 0]\n",
            " [0 1 0]\n",
            " [0 1 0]\n",
            " [0 1 0]\n",
            " [0 1 0]\n",
            " [0 1 0]\n",
            " [0 1 0]\n",
            " [0 1 0]\n",
            " [0 1 0]\n",
            " [0 1 0]\n",
            " [0 1 0]\n",
            " [0 1 0]\n",
            " [0 1 0]\n",
            " [0 1 0]\n",
            " [0 0 1]\n",
            " [0 0 1]\n",
            " [0 0 1]\n",
            " [0 0 1]\n",
            " [0 0 1]\n",
            " [0 0 1]\n",
            " [0 0 1]\n",
            " [0 0 1]\n",
            " [0 0 1]\n",
            " [0 0 1]\n",
            " [0 0 1]\n",
            " [0 0 1]\n",
            " [0 0 1]\n",
            " [0 0 1]\n",
            " [0 0 1]\n",
            " [0 0 1]\n",
            " [0 0 1]\n",
            " [0 0 1]\n",
            " [0 0 1]\n",
            " [0 0 1]\n",
            " [0 0 1]\n",
            " [0 0 1]\n",
            " [0 0 1]\n",
            " [0 0 1]\n",
            " [0 0 1]\n",
            " [0 0 1]\n",
            " [0 0 1]\n",
            " [0 0 1]\n",
            " [0 0 1]\n",
            " [0 0 1]\n",
            " [0 0 1]\n",
            " [0 0 1]\n",
            " [0 0 1]\n",
            " [0 0 1]\n",
            " [0 0 1]\n",
            " [0 0 1]\n",
            " [0 0 1]\n",
            " [0 0 1]\n",
            " [0 0 1]\n",
            " [0 0 1]\n",
            " [0 0 1]\n",
            " [0 0 1]\n",
            " [0 0 1]\n",
            " [0 0 1]\n",
            " [0 0 1]\n",
            " [0 0 1]\n",
            " [0 0 1]\n",
            " [0 0 1]\n",
            " [0 0 1]]\n"
          ],
          "name": "stdout"
        }
      ]
    },
    {
      "cell_type": "code",
      "metadata": {
        "id": "zz6QgICBSX1c",
        "colab_type": "code",
        "colab": {}
      },
      "source": [
        "# numFeatures is the number of features in our input data.\n",
        "# In the iris dataset, this number is '4'.\n",
        "numFeatures = trainX.shape[1]\n",
        "\n",
        "# numLabels is the number of classes our data points can be in.\n",
        "# In the iris dataset, this number is '3'.\n",
        "numLabels = trainY.shape[1]\n",
        "\n",
        "\n",
        "# Placeholders\n",
        "# 'None' means TensorFlow shouldn't expect a fixed number in that dimension\n",
        "X = tf.placeholder(tf.float32, [None, numFeatures]) # Iris has 4 features, so X is a tensor to hold our data.\n",
        "yGold = tf.placeholder(tf.float32, [None, numLabels]) # This will be our correct answers matrix for 3 classes."
      ],
      "execution_count": 0,
      "outputs": []
    },
    {
      "cell_type": "code",
      "metadata": {
        "id": "9KEK_3HHb7Ly",
        "colab_type": "code",
        "colab": {}
      },
      "source": [
        "#   W  *  X  +  b  =  Y\n",
        "#\n",
        "# [1,4]*[4,150]+[1,150]=[1,150] \n",
        "#\n",
        "W = tf.Variable(tf.zeros([4, 3]))  # 4-dimensional input and  3 classes\n",
        "b = tf.Variable(tf.zeros([3])) # 3-dimensional output [0,0,1],[0,1,0],[1,0,0]"
      ],
      "execution_count": 0,
      "outputs": []
    },
    {
      "cell_type": "code",
      "metadata": {
        "id": "URVJTdvim2AN",
        "colab_type": "code",
        "colab": {}
      },
      "source": [
        "#Randomly sample from a normal distribution with standard deviation .01\n",
        "\n",
        "weights = tf.Variable(tf.random_normal([numFeatures,numLabels],\n",
        "                                       mean=0,\n",
        "                                       stddev=0.01,\n",
        "                                       name=\"weights\"))\n",
        "\n",
        "bias = tf.Variable(tf.random_normal([1,numLabels],\n",
        "                                    mean=0,\n",
        "                                    stddev=0.01,\n",
        "                                    name=\"bias\"))"
      ],
      "execution_count": 0,
      "outputs": []
    },
    {
      "cell_type": "code",
      "metadata": {
        "id": "0hBm51qFm40R",
        "colab_type": "code",
        "colab": {}
      },
      "source": [
        "# Three-component breakdown of the Logistic Regression equation.\n",
        "# Note that these feed into each other.\n",
        "apply_weights_OP = tf.matmul(X, weights)\n",
        "add_bias_OP = tf.add(apply_weights_OP, bias) \n",
        "activation_OP = tf.nn.sigmoid(add_bias_OP)"
      ],
      "execution_count": 0,
      "outputs": []
    },
    {
      "cell_type": "code",
      "metadata": {
        "id": "qMNT8H7gm5iq",
        "colab_type": "code",
        "colab": {}
      },
      "source": [
        "# Number of Epochs in our training\n",
        "numEpochs = 700\n",
        "\n",
        "# Defining our learning rate iterations (decay)\n",
        "learningRate = tf.train.exponential_decay(learning_rate=0.0008,\n",
        "                                          global_step= 1,\n",
        "                                          decay_steps=trainX.shape[0],\n",
        "                                          decay_rate= 0.95,\n",
        "                                          staircase=True)"
      ],
      "execution_count": 0,
      "outputs": []
    },
    {
      "cell_type": "code",
      "metadata": {
        "id": "303BrBe7m-ER",
        "colab_type": "code",
        "colab": {}
      },
      "source": [
        "#Defining our cost function - Squared Mean Error\n",
        "cost_OP = tf.nn.l2_loss(activation_OP-yGold)\n",
        "\n",
        "#Defining our Gradient Descent\n",
        "optimizer = tf.train.GradientDescentOptimizer(learningRate)\n",
        "training_OP = optimizer.minimize(cost_OP)"
      ],
      "execution_count": 0,
      "outputs": []
    },
    {
      "cell_type": "code",
      "metadata": {
        "id": "I-nDIrdZnAYp",
        "colab_type": "code",
        "colab": {}
      },
      "source": [
        "# Create a tensorflow session\n",
        "sess = tf.Session()\n",
        "\n",
        "# Initialize our weights and biases variables.\n",
        "init_OP = tf.global_variables_initializer()\n",
        "\n",
        "# Initialize all tensorflow variables\n",
        "sess.run(init_OP)"
      ],
      "execution_count": 0,
      "outputs": []
    },
    {
      "cell_type": "code",
      "metadata": {
        "id": "H4r-aDMbnDMJ",
        "colab_type": "code",
        "colab": {}
      },
      "source": [
        "# argmax(activation_OP, 1) returns the label with the most probability\n",
        "# argmax(yGold, 1) is the correct label\n",
        "correct_predictions_OP = tf.equal(tf.argmax(activation_OP,1),tf.argmax(yGold,1))\n",
        "\n",
        "# If every false prediction is 0 and every true prediction is 1, the average returns us the accuracy\n",
        "accuracy_OP = tf.reduce_mean(tf.cast(correct_predictions_OP, \"float\"))\n",
        "\n",
        "# Summary op for regression output\n",
        "activation_summary_OP = tf.summary.histogram(\"output\", activation_OP)\n",
        "\n",
        "# Summary op for accuracy\n",
        "accuracy_summary_OP = tf.summary.scalar(\"accuracy\", accuracy_OP)\n",
        "\n",
        "# Summary op for cost\n",
        "cost_summary_OP = tf.summary.scalar(\"cost\", cost_OP)\n",
        "\n",
        "# Summary ops to check how variables (W, b) are updating after each iteration\n",
        "weightSummary = tf.summary.histogram(\"weights\", weights.eval(session=sess))\n",
        "biasSummary = tf.summary.histogram(\"biases\", bias.eval(session=sess))\n",
        "\n",
        "# Merge all summaries\n",
        "merged = tf.summary.merge([activation_summary_OP, accuracy_summary_OP, cost_summary_OP, weightSummary, biasSummary])\n",
        "\n",
        "# Summary writer\n",
        "writer = tf.summary.FileWriter(\"summary_logs\", sess.graph)"
      ],
      "execution_count": 0,
      "outputs": []
    },
    {
      "cell_type": "code",
      "metadata": {
        "id": "3Uqb0TDQnGk6",
        "colab_type": "code",
        "outputId": "0eb0b1a9-228a-4ba6-97d6-c1d2ac92c198",
        "colab": {
          "base_uri": "https://localhost:8080/",
          "height": 1000
        }
      },
      "source": [
        "# Initialize reporting variables\n",
        "cost = 0\n",
        "diff = 1\n",
        "epoch_values = []\n",
        "accuracy_values = []\n",
        "cost_values = []\n",
        "\n",
        "# Training epochs\n",
        "for i in range(numEpochs):\n",
        "    if i > 1 and diff < .0001:\n",
        "        print(\"change in cost %g; convergence.\"%diff)\n",
        "        break\n",
        "    else:\n",
        "        # Run training step\n",
        "        step, new_weights, new_bias = sess.run([training_OP, weights, bias], feed_dict={X: trainX, yGold: trainY})\n",
        "        # Report occasional stats\n",
        "        if i % 10 == 0:\n",
        "            # Add epoch to epoch_values\n",
        "            epoch_values.append(i)\n",
        "            # Generate accuracy stats on test data\n",
        "            train_accuracy, newCost = sess.run([accuracy_OP, cost_OP], feed_dict={X: trainX, yGold: trainY})\n",
        "            # Add accuracy to live graphing variable\n",
        "            accuracy_values.append(train_accuracy)\n",
        "            # Add cost to live graphing variable\n",
        "            cost_values.append(newCost)\n",
        "            # Re-assign values for variables\n",
        "            diff = abs(newCost - cost)\n",
        "            cost = newCost\n",
        "\n",
        "            #generate print statements\n",
        "            print(\"step %d, training accuracy %g, cost %g, change in cost %g\"%(i, train_accuracy, newCost, diff))\n",
        "\n",
        "\n",
        "# How well do we perform on held-out test data?\n",
        "print(\"final accuracy on test set: %s\" %str(sess.run(accuracy_OP, \n",
        "                                                     feed_dict={X: testX, \n",
        "                                                                yGold: testY})))"
      ],
      "execution_count": 27,
      "outputs": [
        {
          "output_type": "stream",
          "text": [
            "step 0, training accuracy 0.333333, cost 34.2912, change in cost 34.2912\n",
            "step 10, training accuracy 0.616162, cost 29.9904, change in cost 4.30084\n",
            "step 20, training accuracy 0.646465, cost 28.0549, change in cost 1.93547\n",
            "step 30, training accuracy 0.646465, cost 26.4274, change in cost 1.62756\n",
            "step 40, training accuracy 0.646465, cost 25.0779, change in cost 1.34948\n",
            "step 50, training accuracy 0.646465, cost 23.9641, change in cost 1.11382\n",
            "step 60, training accuracy 0.646465, cost 23.0423, change in cost 0.921762\n",
            "step 70, training accuracy 0.646465, cost 22.2742, change in cost 0.768095\n",
            "step 80, training accuracy 0.646465, cost 21.6283, change in cost 0.64587\n",
            "step 90, training accuracy 0.646465, cost 21.0798, change in cost 0.54855\n",
            "step 100, training accuracy 0.656566, cost 20.6091, change in cost 0.47065\n",
            "step 110, training accuracy 0.666667, cost 20.2013, change in cost 0.407833\n",
            "step 120, training accuracy 0.666667, cost 19.8445, change in cost 0.356752\n",
            "step 130, training accuracy 0.666667, cost 19.5297, change in cost 0.314852\n",
            "step 140, training accuracy 0.666667, cost 19.2495, change in cost 0.280172\n",
            "step 150, training accuracy 0.666667, cost 18.9983, change in cost 0.251228\n",
            "step 160, training accuracy 0.676768, cost 18.7714, change in cost 0.226868\n",
            "step 170, training accuracy 0.686869, cost 18.5652, change in cost 0.206209\n",
            "step 180, training accuracy 0.686869, cost 18.3767, change in cost 0.188555\n",
            "step 190, training accuracy 0.707071, cost 18.2033, change in cost 0.173361\n",
            "step 200, training accuracy 0.717172, cost 18.0431, change in cost 0.160202\n",
            "step 210, training accuracy 0.737374, cost 17.8944, change in cost 0.148735\n",
            "step 220, training accuracy 0.737374, cost 17.7557, change in cost 0.138678\n",
            "step 230, training accuracy 0.747475, cost 17.6259, change in cost 0.129812\n",
            "step 240, training accuracy 0.757576, cost 17.5039, change in cost 0.121956\n",
            "step 250, training accuracy 0.767677, cost 17.389, change in cost 0.114958\n",
            "step 260, training accuracy 0.787879, cost 17.2803, change in cost 0.108696\n",
            "step 270, training accuracy 0.787879, cost 17.1772, change in cost 0.103069\n",
            "step 280, training accuracy 0.787879, cost 17.0792, change in cost 0.0979881\n",
            "step 290, training accuracy 0.787879, cost 16.9858, change in cost 0.0933876\n",
            "step 300, training accuracy 0.79798, cost 16.8966, change in cost 0.089201\n",
            "step 310, training accuracy 0.79798, cost 16.8112, change in cost 0.0853786\n",
            "step 320, training accuracy 0.79798, cost 16.7294, change in cost 0.0818787\n",
            "step 330, training accuracy 0.79798, cost 16.6507, change in cost 0.0786648\n",
            "step 340, training accuracy 0.808081, cost 16.575, change in cost 0.0756989\n",
            "step 350, training accuracy 0.818182, cost 16.502, change in cost 0.072958\n",
            "step 360, training accuracy 0.828283, cost 16.4316, change in cost 0.0704193\n",
            "step 370, training accuracy 0.838384, cost 16.3636, change in cost 0.068058\n",
            "step 380, training accuracy 0.838384, cost 16.2977, change in cost 0.0658569\n",
            "step 390, training accuracy 0.848485, cost 16.2339, change in cost 0.0638027\n",
            "step 400, training accuracy 0.848485, cost 16.172, change in cost 0.0618801\n",
            "step 410, training accuracy 0.848485, cost 16.1119, change in cost 0.0600777\n",
            "step 420, training accuracy 0.848485, cost 16.0536, change in cost 0.0583782\n",
            "step 430, training accuracy 0.848485, cost 15.9968, change in cost 0.0567799\n",
            "step 440, training accuracy 0.868687, cost 15.9415, change in cost 0.0552721\n",
            "step 450, training accuracy 0.868687, cost 15.8877, change in cost 0.0538473\n",
            "step 460, training accuracy 0.868687, cost 15.8352, change in cost 0.052495\n",
            "step 470, training accuracy 0.878788, cost 15.784, change in cost 0.0512152\n",
            "step 480, training accuracy 0.878788, cost 15.734, change in cost 0.0499983\n",
            "step 490, training accuracy 0.878788, cost 15.6851, change in cost 0.0488377\n",
            "step 500, training accuracy 0.878788, cost 15.6374, change in cost 0.0477352\n",
            "step 510, training accuracy 0.878788, cost 15.5907, change in cost 0.0466814\n",
            "step 520, training accuracy 0.878788, cost 15.545, change in cost 0.0456762\n",
            "step 530, training accuracy 0.878788, cost 15.5003, change in cost 0.0447111\n",
            "step 540, training accuracy 0.89899, cost 15.4565, change in cost 0.0437908\n",
            "step 550, training accuracy 0.89899, cost 15.4136, change in cost 0.0429058\n",
            "step 560, training accuracy 0.89899, cost 15.3716, change in cost 0.042058\n",
            "step 570, training accuracy 0.89899, cost 15.3303, change in cost 0.0412397\n",
            "step 580, training accuracy 0.89899, cost 15.2899, change in cost 0.0404587\n",
            "step 590, training accuracy 0.909091, cost 15.2502, change in cost 0.0397024\n",
            "step 600, training accuracy 0.909091, cost 15.2112, change in cost 0.0389738\n",
            "step 610, training accuracy 0.909091, cost 15.1729, change in cost 0.0382729\n",
            "step 620, training accuracy 0.909091, cost 15.1353, change in cost 0.0375967\n",
            "step 630, training accuracy 0.909091, cost 15.0984, change in cost 0.0369415\n",
            "step 640, training accuracy 0.909091, cost 15.0621, change in cost 0.0363092\n",
            "step 650, training accuracy 0.909091, cost 15.0264, change in cost 0.0356951\n",
            "step 660, training accuracy 0.909091, cost 14.9913, change in cost 0.0351048\n",
            "step 670, training accuracy 0.909091, cost 14.9567, change in cost 0.0345316\n",
            "step 680, training accuracy 0.909091, cost 14.9228, change in cost 0.0339737\n",
            "step 690, training accuracy 0.909091, cost 14.8893, change in cost 0.0334349\n",
            "final accuracy on test set: 0.9\n"
          ],
          "name": "stdout"
        }
      ]
    },
    {
      "cell_type": "code",
      "metadata": {
        "id": "PRsYz3acnJLr",
        "colab_type": "code",
        "outputId": "499d4109-47a9-450b-bcdd-2a5f8855d656",
        "colab": {
          "base_uri": "https://localhost:8080/",
          "height": 337
        }
      },
      "source": [
        "%matplotlib inline\n",
        "import numpy as np\n",
        "import matplotlib.pyplot as plt\n",
        "plt.plot([np.mean(cost_values[i-50:i]) for i in range(len(cost_values))])\n",
        "plt.show()"
      ],
      "execution_count": 28,
      "outputs": [
        {
          "output_type": "stream",
          "text": [
            "/usr/local/lib/python3.6/dist-packages/numpy/core/fromnumeric.py:3118: RuntimeWarning: Mean of empty slice.\n",
            "  out=out, **kwargs)\n",
            "/usr/local/lib/python3.6/dist-packages/numpy/core/_methods.py:85: RuntimeWarning: invalid value encountered in double_scalars\n",
            "  ret = ret.dtype.type(ret / rcount)\n"
          ],
          "name": "stderr"
        },
        {
          "output_type": "display_data",
          "data": {
            "image/png": "[encoded data removed]",
            "text/plain": [
              "<Figure size 432x288 with 1 Axes>"
            ]
          },
          "metadata": {
            "tags": []
          }
        }
      ]
    },
    {
      "cell_type": "code",
      "metadata": {
        "id": "amW1lORgxbQO",
        "colab_type": "code",
        "outputId": "fd74114d-b161-47f5-ce13-186a26b33c87",
        "colab": {
          "base_uri": "https://localhost:8080/",
          "height": 51
        }
      },
      "source": [
        "SAMPLE=33\n",
        "res=tf.nn.sigmoid( tf.add( tf.matmul( tf.cast( tf.expand_dims(testX[SAMPLE], 0), tf.float32), tf.cast(new_weights, tf.float32) ), new_bias ) )\n",
        "with tf.Session() as sess:\n",
        "  predict=sess.run(res)\n",
        "  print(testY[SAMPLE])\n",
        "  print(predict)"
      ],
      "execution_count": 29,
      "outputs": [
        {
          "output_type": "stream",
          "text": [
            "[1 0 0]\n",
            "[[0.86919826 0.23357981 0.01536984]]\n"
          ],
          "name": "stdout"
        }
      ]
    }
  ]
}